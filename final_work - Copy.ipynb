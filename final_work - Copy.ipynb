{
 "cells": [
  {
   "cell_type": "code",
   "execution_count": 1,
   "id": "abdf8e41-c1e1-4384-b0f7-58b21a2ad303",
   "metadata": {},
   "outputs": [],
   "source": [
    "import pandas as pd\n",
    "import seaborn as sns\n",
    "import numpy as np\n",
    "import matplotlib.pyplot as plt\n",
    "\n",
    "\n",
    "from sklearn.impute import SimpleImputer\n",
    "from sklearn.pipeline import make_pipeline,Pipeline\n",
    "from sklearn.compose import ColumnTransformer,make_column_selector\n",
    "\n",
    "from sklearn.base import BaseEstimator, TransformerMixin\n",
    "from sklearn.utils.validation import check_array, check_is_fitted\n",
    "from sklearn.cluster import KMeans\n",
    "from sklearn.metrics.pairwise import rbf_kernel\n",
    "\n",
    "from sklearn import svm\n",
    "from sklearn.metrics import mean_squared_error\n",
    "from sklearn.preprocessing import StandardScaler,MinMaxScaler,FunctionTransformer,OneHotEncoder,OrdinalEncoder\n",
    "from sklearn.model_selection import train_test_split\n",
    "from sklearn.compose import TransformedTargetRegressor\n",
    "\n",
    "\n",
    "from sklearn.neighbors import KNeighborsRegressor\n",
    "from sklearn.ensemble import RandomForestRegressor,GradientBoostingRegressor\n",
    "from xgboost import XGBRegressor\n",
    "from sklearn.linear_model import LinearRegression,Ridge\n",
    "\n",
    "from sklearn.decomposition import PCA"
   ]
  },
  {
   "cell_type": "code",
   "execution_count": 2,
   "id": "256e975a-460b-40c9-99e4-d002361e7173",
   "metadata": {},
   "outputs": [],
   "source": [
    "train_data_original = pd.read_csv('Housing_dataset_train.csv',index_col=\"ID\")\n",
    "# train_data_original = pd.read_csv('cleaned3.csv',index_col=\"ID\")\n",
    "test_data = pd.read_csv('Housing_dataset_test.csv',index_col=\"ID\")"
   ]
  },
  {
   "cell_type": "code",
   "execution_count": 3,
   "id": "d1a1c097-096b-4d52-b405-736e4bf8d89e",
   "metadata": {},
   "outputs": [],
   "source": [
    "train_data = train_data_original.copy()\n",
    "\n",
    "train_data.reset_index(inplace=True,drop=True)\n",
    "\n",
    "test_data.reset_index(inplace=True)\n",
    "test_ids = test_data['ID']\n",
    "test_data.drop(\"ID\",inplace=True,axis=1)"
   ]
  },
  {
   "cell_type": "code",
   "execution_count": 4,
   "id": "b1b6c1d5-bf8d-419c-b802-e64b5aad9316",
   "metadata": {},
   "outputs": [
    {
     "name": "stdout",
     "output_type": "stream",
     "text": [
      "<class 'pandas.core.frame.DataFrame'>\n",
      "RangeIndex: 14000 entries, 0 to 13999\n",
      "Data columns (total 6 columns):\n",
      " #   Column         Non-Null Count  Dtype  \n",
      "---  ------         --------------  -----  \n",
      " 0   loc            12187 non-null  object \n",
      " 1   title          12278 non-null  object \n",
      " 2   bedroom        12201 non-null  float64\n",
      " 3   bathroom       12195 non-null  float64\n",
      " 4   parking_space  12189 non-null  float64\n",
      " 5   price          14000 non-null  float64\n",
      "dtypes: float64(4), object(2)\n",
      "memory usage: 656.4+ KB\n"
     ]
    }
   ],
   "source": [
    "train_data.info()"
   ]
  },
  {
   "cell_type": "markdown",
   "id": "3d28f3ec-d813-4cf9-896b-d4b204dc7673",
   "metadata": {},
   "source": [
    "## Cleaning"
   ]
  },
  {
   "cell_type": "code",
   "execution_count": 5,
   "id": "6aecf71b-d284-498a-9f1b-5d824390b11b",
   "metadata": {},
   "outputs": [],
   "source": [
    "non_null = train_data.dropna()\n"
   ]
  },
  {
   "cell_type": "code",
   "execution_count": 6,
   "id": "7ad8cb7d-6328-49b5-a122-702facad8cbd",
   "metadata": {},
   "outputs": [],
   "source": [
    "# train_data.dropna(inplace=True)"
   ]
  },
  {
   "cell_type": "code",
   "execution_count": 7,
   "id": "ed258ca3-4863-415a-98ad-982b4e4843d5",
   "metadata": {},
   "outputs": [],
   "source": [
    "train_data.drop(train_data[train_data['loc'].isna()].index,axis=0,inplace=True)\n",
    "train_data.drop(train_data[train_data['title'].isna()].index,axis=0,inplace=True)\n",
    "train_data.drop(train_data[train_data['bedroom'].isna()].index,axis=0,inplace=True)\n",
    "train_data.drop(train_data[train_data['bathroom'].isna()].index,axis=0,inplace=True)\n",
    "\n",
    "# all_numeric_and_loc_nulls =   train_data[train_data['title'].isna() & train_data['bedroom'].isna() & train_data['bathroom'].isna() & train_data['parking_space'].isna()].index\n",
    "# train_data.drop(all_numeric_and_loc_nulls,inplace=True)\n",
    "\n",
    "# all_numeric_nulls =   train_data[train_data['bedroom'].isna() & train_data['bathroom'].isna() & train_data['parking_space'].isna()].index\n",
    "# train_data.drop(all_numeric_nulls,inplace=True)\n",
    "# bed_and_bath_nulls  =  train_data[train_data['bedroom'].isna() & train_data['bathroom'].isna() ].index\n",
    "# train_data.drop(bed_and_bath_nulls,inplace=True)\n",
    "\n"
   ]
  },
  {
   "cell_type": "code",
   "execution_count": 8,
   "id": "ae36a7d5-da47-44de-9336-9099d95c3d4a",
   "metadata": {},
   "outputs": [],
   "source": [
    "# train_data = train_data[train_data.price < 10_000_000]"
   ]
  },
  {
   "cell_type": "code",
   "execution_count": 9,
   "id": "608179a0-4c8b-4f8b-8ecd-831a0e42ba44",
   "metadata": {},
   "outputs": [],
   "source": [
    "# train_data['price_log'] = np.log1p(train_data.price)\n",
    "# train_data.drop('price',axis=1,inplace=True)"
   ]
  },
  {
   "cell_type": "code",
   "execution_count": 10,
   "id": "f8ed904f-5117-4324-8c39-dfdde3fd205b",
   "metadata": {},
   "outputs": [
    {
     "name": "stdout",
     "output_type": "stream",
     "text": [
      "<class 'pandas.core.frame.DataFrame'>\n",
      "Int64Index: 7248 entries, 0 to 13997\n",
      "Data columns (total 6 columns):\n",
      " #   Column         Non-Null Count  Dtype  \n",
      "---  ------         --------------  -----  \n",
      " 0   loc            7248 non-null   object \n",
      " 1   title          7248 non-null   object \n",
      " 2   bedroom        7248 non-null   float64\n",
      " 3   bathroom       7248 non-null   float64\n",
      " 4   parking_space  5689 non-null   float64\n",
      " 5   price          7248 non-null   float64\n",
      "dtypes: float64(4), object(2)\n",
      "memory usage: 396.4+ KB\n"
     ]
    }
   ],
   "source": [
    "train_data.info()"
   ]
  },
  {
   "cell_type": "code",
   "execution_count": 11,
   "id": "29ad41b6-1429-46a6-b02b-a0ad620f0371",
   "metadata": {},
   "outputs": [],
   "source": [
    "\n",
    "# train_data['mode_title'] = train_data.groupby(['loc'])['title'].transform(lambda x:x.mode()[0])\n",
    "# train_data.loc[train_data['title'].isna(),'title'] = train_data.loc[train_data['title'].isna(),'mode_title']\n",
    "\n",
    "# test_data['median_bedroom'] = test_data.groupby(['title','loc'])['bedroom'].transform('median').round()"
   ]
  },
  {
   "cell_type": "code",
   "execution_count": 12,
   "id": "c023ff96-d048-4b61-b424-8ebf9180afaf",
   "metadata": {},
   "outputs": [],
   "source": [
    "# train_data.drop(train_data[train_data.duplicated()].index,axis=0,inplace=True)"
   ]
  },
  {
   "cell_type": "code",
   "execution_count": 13,
   "id": "650e201e-2096-4210-ad07-5ec3fe9cb9c2",
   "metadata": {},
   "outputs": [],
   "source": [
    "# fill missing values\n",
    "train_data['median_bedroom'] = train_data.groupby(['title','loc'])['bedroom'].transform('median').round()\n",
    "train_data['median_bathroom'] = train_data.groupby(['title','loc'])['bathroom'].transform('median').round()\n",
    "train_data['median_parking_space'] = train_data.groupby(['title','loc'])['parking_space'].transform('median').round()\n",
    "\n",
    "train_data.loc[train_data['bedroom'].isna(),'bedroom'] = train_data.loc[train_data['bedroom'].isna(),'median_bedroom']\n",
    "train_data.loc[train_data['bathroom'].isna(),'bathroom'] = train_data.loc[train_data['bathroom'].isna(),'median_bathroom']\n",
    "train_data.loc[train_data['parking_space'].isna(),'parking_space'] = train_data.loc[train_data['parking_space'].isna(),'median_parking_space']\n"
   ]
  },
  {
   "cell_type": "code",
   "execution_count": 14,
   "id": "179e3a0b-9a23-4a21-b952-8d21fdbcc18f",
   "metadata": {},
   "outputs": [],
   "source": [
    "train_data.drop(['median_parking_space','median_bathroom','median_bedroom'],axis=1,inplace=True)"
   ]
  },
  {
   "cell_type": "code",
   "execution_count": 15,
   "id": "9fc8d838-1195-45ed-9698-9546e2824507",
   "metadata": {},
   "outputs": [],
   "source": [
    "# drop all duplicates\n",
    "train_data.drop(train_data[train_data.duplicated()].index,axis=0,inplace=True)"
   ]
  },
  {
   "cell_type": "code",
   "execution_count": 16,
   "id": "45488f5c-a5ef-499f-8743-4560563495a4",
   "metadata": {},
   "outputs": [],
   "source": [
    "# train_data['class'] = pd.cut(train_data.price,bins=4,labels=[0,1,2,3]).astype('int')"
   ]
  },
  {
   "cell_type": "code",
   "execution_count": 17,
   "id": "693f5d93-dff3-4104-a37d-40326645ede5",
   "metadata": {},
   "outputs": [
    {
     "name": "stdout",
     "output_type": "stream",
     "text": [
      "<class 'pandas.core.frame.DataFrame'>\n",
      "RangeIndex: 6000 entries, 0 to 5999\n",
      "Data columns (total 5 columns):\n",
      " #   Column         Non-Null Count  Dtype \n",
      "---  ------         --------------  ----- \n",
      " 0   loc            6000 non-null   object\n",
      " 1   title          6000 non-null   object\n",
      " 2   bedroom        6000 non-null   int64 \n",
      " 3   bathroom       6000 non-null   int64 \n",
      " 4   parking_space  6000 non-null   int64 \n",
      "dtypes: int64(3), object(2)\n",
      "memory usage: 234.5+ KB\n"
     ]
    }
   ],
   "source": [
    "test_data.info()"
   ]
  },
  {
   "cell_type": "code",
   "execution_count": 18,
   "id": "c616f116-7c80-49ec-b841-fa55c15488e5",
   "metadata": {},
   "outputs": [
    {
     "name": "stdout",
     "output_type": "stream",
     "text": [
      "<class 'pandas.core.frame.DataFrame'>\n",
      "Int64Index: 7179 entries, 0 to 13997\n",
      "Data columns (total 6 columns):\n",
      " #   Column         Non-Null Count  Dtype  \n",
      "---  ------         --------------  -----  \n",
      " 0   loc            7179 non-null   object \n",
      " 1   title          7179 non-null   object \n",
      " 2   bedroom        7179 non-null   float64\n",
      " 3   bathroom       7179 non-null   float64\n",
      " 4   parking_space  7179 non-null   float64\n",
      " 5   price          7179 non-null   float64\n",
      "dtypes: float64(4), object(2)\n",
      "memory usage: 392.6+ KB\n"
     ]
    }
   ],
   "source": [
    "train_data.info()"
   ]
  },
  {
   "cell_type": "code",
   "execution_count": 19,
   "id": "1a1a70d9-3f14-46b4-ace0-c04dc9b7bd61",
   "metadata": {},
   "outputs": [],
   "source": [
    "# train_data.drop(train_data[train_data.duplicated()].index,axis=0,inplace=True)\n",
    "\n",
    "\n",
    "# train_data.bedroom.fillna(train_data.bedroom.mean(),axis=0,inplace=True)\n",
    "# train_data.bathroom.fillna(train_data.bathroom.mean(),axis=0,inplace=True)\n",
    "# train_data.parking_space.fillna(train_data.parking_space.mean(),axis=0,inplace=True)"
   ]
  },
  {
   "cell_type": "code",
   "execution_count": 20,
   "id": "170767bc-9fbe-43cb-b3c7-076a76ded73c",
   "metadata": {},
   "outputs": [],
   "source": [
    "def clean_abnormal_bathroom(df):\n",
    "    # abnormal_bathrooms = df[df.bathroom > df.bedroom]   \n",
    "    # bedroom = abnormal_bathrooms['bedroom']\n",
    "    # bathroom = abnormal_bathrooms['bathroom']\n",
    "    # index = abnormal_bathrooms.index\n",
    "    # df.loc[index,'bedroom'] = df['bathroom']\n",
    "    # df.loc[index,'bathroom'] = df['bedroom']\n",
    "    abnormal_bathrooms = df[df.bedroom < df.bathroom].index\n",
    "    # df.loc[abnormal_bathrooms,'bathroom'] = df.loc[abnormal_bathrooms,'bedroom'] \n",
    "    df.loc[abnormal_bathrooms,'bathroom'] = df.loc[abnormal_bathrooms,'bedroom'] -1\n",
    "    df.bathroom.replace(0,1,inplace=True)\n"
   ]
  },
  {
   "cell_type": "code",
   "execution_count": 21,
   "id": "d92d4bad-9fef-4a87-8ea7-7a79911f1307",
   "metadata": {},
   "outputs": [],
   "source": [
    "clean_abnormal_bathroom(train_data)\n",
    "clean_abnormal_bathroom(test_data)"
   ]
  },
  {
   "cell_type": "code",
   "execution_count": 22,
   "id": "bd3a775b-ae7e-4a12-b4e2-a97206d910af",
   "metadata": {},
   "outputs": [
    {
     "data": {
      "text/html": [
       "<div>\n",
       "<style scoped>\n",
       "    .dataframe tbody tr th:only-of-type {\n",
       "        vertical-align: middle;\n",
       "    }\n",
       "\n",
       "    .dataframe tbody tr th {\n",
       "        vertical-align: top;\n",
       "    }\n",
       "\n",
       "    .dataframe thead th {\n",
       "        text-align: right;\n",
       "    }\n",
       "</style>\n",
       "<table border=\"1\" class=\"dataframe\">\n",
       "  <thead>\n",
       "    <tr style=\"text-align: right;\">\n",
       "      <th></th>\n",
       "      <th>loc</th>\n",
       "      <th>title</th>\n",
       "      <th>bedroom</th>\n",
       "      <th>bathroom</th>\n",
       "      <th>parking_space</th>\n",
       "      <th>price</th>\n",
       "    </tr>\n",
       "  </thead>\n",
       "  <tbody>\n",
       "  </tbody>\n",
       "</table>\n",
       "</div>"
      ],
      "text/plain": [
       "Empty DataFrame\n",
       "Columns: [loc, title, bedroom, bathroom, parking_space, price]\n",
       "Index: []"
      ]
     },
     "execution_count": 22,
     "metadata": {},
     "output_type": "execute_result"
    }
   ],
   "source": [
    "train_data[train_data.bathroom > train_data.bedroom] "
   ]
  },
  {
   "cell_type": "code",
   "execution_count": 23,
   "id": "f1dddcc2-698f-4c0a-ab37-7357c14f6abb",
   "metadata": {},
   "outputs": [],
   "source": [
    "# train_data.drop('parking_space',axis=1,inplace=True)\n",
    "# test_data.drop('parking_space',axis=1,inplace=True)"
   ]
  },
  {
   "cell_type": "code",
   "execution_count": null,
   "id": "773e3e82-5600-4e90-aafe-fff088ae061d",
   "metadata": {},
   "outputs": [],
   "source": []
  },
  {
   "cell_type": "code",
   "execution_count": 24,
   "id": "f21a0d0b-f7d9-4930-b416-ab99bb46683a",
   "metadata": {},
   "outputs": [
    {
     "name": "stdout",
     "output_type": "stream",
     "text": [
      "<class 'pandas.core.frame.DataFrame'>\n",
      "Int64Index: 7179 entries, 0 to 13997\n",
      "Data columns (total 6 columns):\n",
      " #   Column         Non-Null Count  Dtype  \n",
      "---  ------         --------------  -----  \n",
      " 0   loc            7179 non-null   object \n",
      " 1   title          7179 non-null   object \n",
      " 2   bedroom        7179 non-null   float64\n",
      " 3   bathroom       7179 non-null   float64\n",
      " 4   parking_space  7179 non-null   float64\n",
      " 5   price          7179 non-null   float64\n",
      "dtypes: float64(4), object(2)\n",
      "memory usage: 650.6+ KB\n"
     ]
    }
   ],
   "source": [
    "train_data.info()"
   ]
  },
  {
   "cell_type": "code",
   "execution_count": 25,
   "id": "34e446b7-573f-479f-b248-6f5e31f27958",
   "metadata": {},
   "outputs": [
    {
     "data": {
      "text/html": [
       "<div>\n",
       "<style scoped>\n",
       "    .dataframe tbody tr th:only-of-type {\n",
       "        vertical-align: middle;\n",
       "    }\n",
       "\n",
       "    .dataframe tbody tr th {\n",
       "        vertical-align: top;\n",
       "    }\n",
       "\n",
       "    .dataframe thead th {\n",
       "        text-align: right;\n",
       "    }\n",
       "</style>\n",
       "<table border=\"1\" class=\"dataframe\">\n",
       "  <thead>\n",
       "    <tr style=\"text-align: right;\">\n",
       "      <th></th>\n",
       "      <th>bedroom</th>\n",
       "      <th>bathroom</th>\n",
       "      <th>parking_space</th>\n",
       "      <th>price</th>\n",
       "    </tr>\n",
       "  </thead>\n",
       "  <tbody>\n",
       "    <tr>\n",
       "      <th>count</th>\n",
       "      <td>7179.000000</td>\n",
       "      <td>7179.000000</td>\n",
       "      <td>7179.000000</td>\n",
       "      <td>7.179000e+03</td>\n",
       "    </tr>\n",
       "    <tr>\n",
       "      <th>mean</th>\n",
       "      <td>4.271068</td>\n",
       "      <td>2.346148</td>\n",
       "      <td>3.125505</td>\n",
       "      <td>2.127662e+06</td>\n",
       "    </tr>\n",
       "    <tr>\n",
       "      <th>std</th>\n",
       "      <td>2.426131</td>\n",
       "      <td>1.644957</td>\n",
       "      <td>1.471751</td>\n",
       "      <td>1.059969e+06</td>\n",
       "    </tr>\n",
       "    <tr>\n",
       "      <th>min</th>\n",
       "      <td>1.000000</td>\n",
       "      <td>1.000000</td>\n",
       "      <td>1.000000</td>\n",
       "      <td>4.319673e+05</td>\n",
       "    </tr>\n",
       "    <tr>\n",
       "      <th>25%</th>\n",
       "      <td>2.000000</td>\n",
       "      <td>1.000000</td>\n",
       "      <td>2.000000</td>\n",
       "      <td>1.394770e+06</td>\n",
       "    </tr>\n",
       "    <tr>\n",
       "      <th>50%</th>\n",
       "      <td>4.000000</td>\n",
       "      <td>2.000000</td>\n",
       "      <td>3.000000</td>\n",
       "      <td>1.885259e+06</td>\n",
       "    </tr>\n",
       "    <tr>\n",
       "      <th>75%</th>\n",
       "      <td>6.000000</td>\n",
       "      <td>3.000000</td>\n",
       "      <td>4.000000</td>\n",
       "      <td>2.574962e+06</td>\n",
       "    </tr>\n",
       "    <tr>\n",
       "      <th>max</th>\n",
       "      <td>9.000000</td>\n",
       "      <td>7.000000</td>\n",
       "      <td>6.000000</td>\n",
       "      <td>1.540273e+07</td>\n",
       "    </tr>\n",
       "  </tbody>\n",
       "</table>\n",
       "</div>"
      ],
      "text/plain": [
       "           bedroom     bathroom  parking_space         price\n",
       "count  7179.000000  7179.000000    7179.000000  7.179000e+03\n",
       "mean      4.271068     2.346148       3.125505  2.127662e+06\n",
       "std       2.426131     1.644957       1.471751  1.059969e+06\n",
       "min       1.000000     1.000000       1.000000  4.319673e+05\n",
       "25%       2.000000     1.000000       2.000000  1.394770e+06\n",
       "50%       4.000000     2.000000       3.000000  1.885259e+06\n",
       "75%       6.000000     3.000000       4.000000  2.574962e+06\n",
       "max       9.000000     7.000000       6.000000  1.540273e+07"
      ]
     },
     "execution_count": 25,
     "metadata": {},
     "output_type": "execute_result"
    }
   ],
   "source": [
    "train_data.describe()"
   ]
  },
  {
   "cell_type": "code",
   "execution_count": 26,
   "id": "6412a487-7a53-4a08-a901-130b5d3e5907",
   "metadata": {},
   "outputs": [
    {
     "data": {
      "text/html": [
       "<div>\n",
       "<style scoped>\n",
       "    .dataframe tbody tr th:only-of-type {\n",
       "        vertical-align: middle;\n",
       "    }\n",
       "\n",
       "    .dataframe tbody tr th {\n",
       "        vertical-align: top;\n",
       "    }\n",
       "\n",
       "    .dataframe thead th {\n",
       "        text-align: right;\n",
       "    }\n",
       "</style>\n",
       "<table border=\"1\" class=\"dataframe\">\n",
       "  <thead>\n",
       "    <tr style=\"text-align: right;\">\n",
       "      <th></th>\n",
       "      <th>bedroom</th>\n",
       "      <th>bathroom</th>\n",
       "      <th>parking_space</th>\n",
       "    </tr>\n",
       "  </thead>\n",
       "  <tbody>\n",
       "    <tr>\n",
       "      <th>count</th>\n",
       "      <td>6000.000000</td>\n",
       "      <td>6000.000000</td>\n",
       "      <td>6000.000000</td>\n",
       "    </tr>\n",
       "    <tr>\n",
       "      <th>mean</th>\n",
       "      <td>4.329833</td>\n",
       "      <td>2.367167</td>\n",
       "      <td>3.132333</td>\n",
       "    </tr>\n",
       "    <tr>\n",
       "      <th>std</th>\n",
       "      <td>2.454733</td>\n",
       "      <td>1.673267</td>\n",
       "      <td>1.604551</td>\n",
       "    </tr>\n",
       "    <tr>\n",
       "      <th>min</th>\n",
       "      <td>1.000000</td>\n",
       "      <td>1.000000</td>\n",
       "      <td>1.000000</td>\n",
       "    </tr>\n",
       "    <tr>\n",
       "      <th>25%</th>\n",
       "      <td>2.000000</td>\n",
       "      <td>1.000000</td>\n",
       "      <td>2.000000</td>\n",
       "    </tr>\n",
       "    <tr>\n",
       "      <th>50%</th>\n",
       "      <td>4.000000</td>\n",
       "      <td>2.000000</td>\n",
       "      <td>3.000000</td>\n",
       "    </tr>\n",
       "    <tr>\n",
       "      <th>75%</th>\n",
       "      <td>6.000000</td>\n",
       "      <td>3.000000</td>\n",
       "      <td>4.000000</td>\n",
       "    </tr>\n",
       "    <tr>\n",
       "      <th>max</th>\n",
       "      <td>9.000000</td>\n",
       "      <td>7.000000</td>\n",
       "      <td>6.000000</td>\n",
       "    </tr>\n",
       "  </tbody>\n",
       "</table>\n",
       "</div>"
      ],
      "text/plain": [
       "           bedroom     bathroom  parking_space\n",
       "count  6000.000000  6000.000000    6000.000000\n",
       "mean      4.329833     2.367167       3.132333\n",
       "std       2.454733     1.673267       1.604551\n",
       "min       1.000000     1.000000       1.000000\n",
       "25%       2.000000     1.000000       2.000000\n",
       "50%       4.000000     2.000000       3.000000\n",
       "75%       6.000000     3.000000       4.000000\n",
       "max       9.000000     7.000000       6.000000"
      ]
     },
     "execution_count": 26,
     "metadata": {},
     "output_type": "execute_result"
    }
   ],
   "source": [
    "test_data.describe()"
   ]
  },
  {
   "cell_type": "code",
   "execution_count": 27,
   "id": "1b2f8633-ac8d-4872-a61a-df95f503d654",
   "metadata": {},
   "outputs": [
    {
     "data": {
      "text/html": [
       "<div>\n",
       "<style scoped>\n",
       "    .dataframe tbody tr th:only-of-type {\n",
       "        vertical-align: middle;\n",
       "    }\n",
       "\n",
       "    .dataframe tbody tr th {\n",
       "        vertical-align: top;\n",
       "    }\n",
       "\n",
       "    .dataframe thead th {\n",
       "        text-align: right;\n",
       "    }\n",
       "</style>\n",
       "<table border=\"1\" class=\"dataframe\">\n",
       "  <thead>\n",
       "    <tr style=\"text-align: right;\">\n",
       "      <th></th>\n",
       "      <th>bedroom</th>\n",
       "      <th>bathroom</th>\n",
       "      <th>parking_space</th>\n",
       "      <th>price</th>\n",
       "    </tr>\n",
       "  </thead>\n",
       "  <tbody>\n",
       "    <tr>\n",
       "      <th>count</th>\n",
       "      <td>5689.000000</td>\n",
       "      <td>5689.000000</td>\n",
       "      <td>5689.000000</td>\n",
       "      <td>5.689000e+03</td>\n",
       "    </tr>\n",
       "    <tr>\n",
       "      <th>mean</th>\n",
       "      <td>4.280014</td>\n",
       "      <td>3.143962</td>\n",
       "      <td>3.151520</td>\n",
       "      <td>2.136072e+06</td>\n",
       "    </tr>\n",
       "    <tr>\n",
       "      <th>std</th>\n",
       "      <td>2.427679</td>\n",
       "      <td>2.039221</td>\n",
       "      <td>1.615207</td>\n",
       "      <td>1.057453e+06</td>\n",
       "    </tr>\n",
       "    <tr>\n",
       "      <th>min</th>\n",
       "      <td>1.000000</td>\n",
       "      <td>1.000000</td>\n",
       "      <td>1.000000</td>\n",
       "      <td>4.319673e+05</td>\n",
       "    </tr>\n",
       "    <tr>\n",
       "      <th>25%</th>\n",
       "      <td>2.000000</td>\n",
       "      <td>1.000000</td>\n",
       "      <td>2.000000</td>\n",
       "      <td>1.398221e+06</td>\n",
       "    </tr>\n",
       "    <tr>\n",
       "      <th>50%</th>\n",
       "      <td>4.000000</td>\n",
       "      <td>2.000000</td>\n",
       "      <td>3.000000</td>\n",
       "      <td>1.895944e+06</td>\n",
       "    </tr>\n",
       "    <tr>\n",
       "      <th>75%</th>\n",
       "      <td>6.000000</td>\n",
       "      <td>5.000000</td>\n",
       "      <td>4.000000</td>\n",
       "      <td>2.577278e+06</td>\n",
       "    </tr>\n",
       "    <tr>\n",
       "      <th>max</th>\n",
       "      <td>9.000000</td>\n",
       "      <td>7.000000</td>\n",
       "      <td>6.000000</td>\n",
       "      <td>1.344942e+07</td>\n",
       "    </tr>\n",
       "  </tbody>\n",
       "</table>\n",
       "</div>"
      ],
      "text/plain": [
       "           bedroom     bathroom  parking_space         price\n",
       "count  5689.000000  5689.000000    5689.000000  5.689000e+03\n",
       "mean      4.280014     3.143962       3.151520  2.136072e+06\n",
       "std       2.427679     2.039221       1.615207  1.057453e+06\n",
       "min       1.000000     1.000000       1.000000  4.319673e+05\n",
       "25%       2.000000     1.000000       2.000000  1.398221e+06\n",
       "50%       4.000000     2.000000       3.000000  1.895944e+06\n",
       "75%       6.000000     5.000000       4.000000  2.577278e+06\n",
       "max       9.000000     7.000000       6.000000  1.344942e+07"
      ]
     },
     "execution_count": 27,
     "metadata": {},
     "output_type": "execute_result"
    }
   ],
   "source": [
    "non_null.describe()"
   ]
  },
  {
   "cell_type": "code",
   "execution_count": 28,
   "id": "30420149-785f-4943-a594-8c87c30a01aa",
   "metadata": {},
   "outputs": [
    {
     "data": {
      "text/html": [
       "<div>\n",
       "<style scoped>\n",
       "    .dataframe tbody tr th:only-of-type {\n",
       "        vertical-align: middle;\n",
       "    }\n",
       "\n",
       "    .dataframe tbody tr th {\n",
       "        vertical-align: top;\n",
       "    }\n",
       "\n",
       "    .dataframe thead th {\n",
       "        text-align: right;\n",
       "    }\n",
       "</style>\n",
       "<table border=\"1\" class=\"dataframe\">\n",
       "  <thead>\n",
       "    <tr style=\"text-align: right;\">\n",
       "      <th></th>\n",
       "      <th>loc</th>\n",
       "      <th>title</th>\n",
       "      <th>bedroom</th>\n",
       "      <th>bathroom</th>\n",
       "      <th>parking_space</th>\n",
       "      <th>price</th>\n",
       "    </tr>\n",
       "  </thead>\n",
       "  <tbody>\n",
       "    <tr>\n",
       "      <th>0</th>\n",
       "      <td>Katsina</td>\n",
       "      <td>Semi-detached duplex</td>\n",
       "      <td>2.0</td>\n",
       "      <td>2.0</td>\n",
       "      <td>1.0</td>\n",
       "      <td>1149999.565</td>\n",
       "    </tr>\n",
       "    <tr>\n",
       "      <th>3</th>\n",
       "      <td>Anambra</td>\n",
       "      <td>Detached duplex</td>\n",
       "      <td>5.0</td>\n",
       "      <td>2.0</td>\n",
       "      <td>4.0</td>\n",
       "      <td>2410306.756</td>\n",
       "    </tr>\n",
       "    <tr>\n",
       "      <th>7</th>\n",
       "      <td>Katsina</td>\n",
       "      <td>Penthouse</td>\n",
       "      <td>3.0</td>\n",
       "      <td>3.0</td>\n",
       "      <td>5.0</td>\n",
       "      <td>2043107.592</td>\n",
       "    </tr>\n",
       "    <tr>\n",
       "      <th>10</th>\n",
       "      <td>Ogun</td>\n",
       "      <td>Bungalow</td>\n",
       "      <td>1.0</td>\n",
       "      <td>1.0</td>\n",
       "      <td>6.0</td>\n",
       "      <td>1330213.036</td>\n",
       "    </tr>\n",
       "    <tr>\n",
       "      <th>11</th>\n",
       "      <td>Bayelsa</td>\n",
       "      <td>Apartment</td>\n",
       "      <td>3.0</td>\n",
       "      <td>2.0</td>\n",
       "      <td>2.0</td>\n",
       "      <td>1891772.069</td>\n",
       "    </tr>\n",
       "    <tr>\n",
       "      <th>...</th>\n",
       "      <td>...</td>\n",
       "      <td>...</td>\n",
       "      <td>...</td>\n",
       "      <td>...</td>\n",
       "      <td>...</td>\n",
       "      <td>...</td>\n",
       "    </tr>\n",
       "    <tr>\n",
       "      <th>13989</th>\n",
       "      <td>Kebbi</td>\n",
       "      <td>Terrace duplex</td>\n",
       "      <td>4.0</td>\n",
       "      <td>3.0</td>\n",
       "      <td>2.0</td>\n",
       "      <td>1581061.171</td>\n",
       "    </tr>\n",
       "    <tr>\n",
       "      <th>13990</th>\n",
       "      <td>Kebbi</td>\n",
       "      <td>Penthouse</td>\n",
       "      <td>8.0</td>\n",
       "      <td>7.0</td>\n",
       "      <td>3.0</td>\n",
       "      <td>3086400.032</td>\n",
       "    </tr>\n",
       "    <tr>\n",
       "      <th>13992</th>\n",
       "      <td>Ogun</td>\n",
       "      <td>Cottage</td>\n",
       "      <td>1.0</td>\n",
       "      <td>1.0</td>\n",
       "      <td>2.0</td>\n",
       "      <td>1508351.845</td>\n",
       "    </tr>\n",
       "    <tr>\n",
       "      <th>13994</th>\n",
       "      <td>Taraba</td>\n",
       "      <td>Detached duplex</td>\n",
       "      <td>8.0</td>\n",
       "      <td>1.0</td>\n",
       "      <td>6.0</td>\n",
       "      <td>2837199.086</td>\n",
       "    </tr>\n",
       "    <tr>\n",
       "      <th>13997</th>\n",
       "      <td>Plateau</td>\n",
       "      <td>Bungalow</td>\n",
       "      <td>8.0</td>\n",
       "      <td>6.0</td>\n",
       "      <td>5.0</td>\n",
       "      <td>2406812.693</td>\n",
       "    </tr>\n",
       "  </tbody>\n",
       "</table>\n",
       "<p>7179 rows × 6 columns</p>\n",
       "</div>"
      ],
      "text/plain": [
       "           loc                 title  bedroom  bathroom  parking_space  \\\n",
       "0      Katsina  Semi-detached duplex      2.0       2.0            1.0   \n",
       "3      Anambra       Detached duplex      5.0       2.0            4.0   \n",
       "7      Katsina             Penthouse      3.0       3.0            5.0   \n",
       "10        Ogun              Bungalow      1.0       1.0            6.0   \n",
       "11     Bayelsa             Apartment      3.0       2.0            2.0   \n",
       "...        ...                   ...      ...       ...            ...   \n",
       "13989    Kebbi        Terrace duplex      4.0       3.0            2.0   \n",
       "13990    Kebbi             Penthouse      8.0       7.0            3.0   \n",
       "13992     Ogun               Cottage      1.0       1.0            2.0   \n",
       "13994   Taraba       Detached duplex      8.0       1.0            6.0   \n",
       "13997  Plateau              Bungalow      8.0       6.0            5.0   \n",
       "\n",
       "             price  \n",
       "0      1149999.565  \n",
       "3      2410306.756  \n",
       "7      2043107.592  \n",
       "10     1330213.036  \n",
       "11     1891772.069  \n",
       "...            ...  \n",
       "13989  1581061.171  \n",
       "13990  3086400.032  \n",
       "13992  1508351.845  \n",
       "13994  2837199.086  \n",
       "13997  2406812.693  \n",
       "\n",
       "[7179 rows x 6 columns]"
      ]
     },
     "execution_count": 28,
     "metadata": {},
     "output_type": "execute_result"
    }
   ],
   "source": [
    "train_data"
   ]
  },
  {
   "cell_type": "code",
   "execution_count": null,
   "id": "2e81b195-e3bc-48ac-b97f-d27e8ed20b6d",
   "metadata": {},
   "outputs": [],
   "source": []
  },
  {
   "cell_type": "code",
   "execution_count": null,
   "id": "874f5d71-c0b0-4756-a79c-42b8f7b93182",
   "metadata": {},
   "outputs": [],
   "source": []
  },
  {
   "cell_type": "markdown",
   "id": "eeec0145-f512-4287-aaec-723828922419",
   "metadata": {
    "tags": []
   },
   "source": [
    "## EDA"
   ]
  },
  {
   "cell_type": "code",
   "execution_count": 29,
   "id": "588493d6-910b-4042-a623-348319b2468d",
   "metadata": {},
   "outputs": [
    {
     "data": {
      "text/plain": [
       "<AxesSubplot:>"
      ]
     },
     "execution_count": 29,
     "metadata": {},
     "output_type": "execute_result"
    },
    {
     "data": {
      "image/png": "[encoded data removed]",
      "text/plain": [
       "<Figure size 640x480 with 1 Axes>"
      ]
     },
     "metadata": {},
     "output_type": "display_data"
    }
   ],
   "source": [
    "train_data['price'].hist()"
   ]
  },
  {
   "cell_type": "code",
   "execution_count": 30,
   "id": "8bf68651-7e66-4aa3-877f-2cbdf3e3b967",
   "metadata": {},
   "outputs": [],
   "source": [
    "# sns.scatterplot(x=train_data['bedroom'], y= train_data['price'],hue=train_data['class'])"
   ]
  },
  {
   "cell_type": "code",
   "execution_count": 31,
   "id": "d1dd08fe-57bc-4bb6-be45-67febb7bd7b8",
   "metadata": {},
   "outputs": [],
   "source": [
    "# sns.scatterplot(x=train_data['bedroom'], y= train_data['price'],hue=train_data['class'])"
   ]
  },
  {
   "cell_type": "code",
   "execution_count": 32,
   "id": "8d32edba-5216-417f-890a-1bca9abd9e8b",
   "metadata": {},
   "outputs": [
    {
     "data": {
      "image/png": "[encoded data removed]",
      "text/plain": [
       "<Figure size 640x480 with 1 Axes>"
      ]
     },
     "metadata": {},
     "output_type": "display_data"
    }
   ],
   "source": [
    "sns.scatterplot(x=train_data['bedroom'], y= np.log(train_data['price']))\n",
    "plt.grid()"
   ]
  },
  {
   "cell_type": "code",
   "execution_count": 33,
   "id": "f27381eb-4e60-47b5-88a7-ca8012c6a7ef",
   "metadata": {},
   "outputs": [
    {
     "data": {
      "text/plain": [
       "<AxesSubplot:xlabel='bathroom', ylabel='price'>"
      ]
     },
     "execution_count": 33,
     "metadata": {},
     "output_type": "execute_result"
    },
    {
     "data": {
      "image/png": "[encoded data removed]",
      "text/plain": [
       "<Figure size 640x480 with 1 Axes>"
      ]
     },
     "metadata": {},
     "output_type": "display_data"
    }
   ],
   "source": [
    "sns.scatterplot(x=train_data['bathroom'], y= np.log(train_data['price']))"
   ]
  },
  {
   "cell_type": "code",
   "execution_count": null,
   "id": "36a31fa4-8887-4b79-b195-b2c469abd9dd",
   "metadata": {},
   "outputs": [],
   "source": []
  },
  {
   "cell_type": "code",
   "execution_count": 34,
   "id": "3fe2d02f-f2be-442e-992e-dc7b95c73b37",
   "metadata": {},
   "outputs": [
    {
     "data": {
      "text/html": [
       "<div>\n",
       "<style scoped>\n",
       "    .dataframe tbody tr th:only-of-type {\n",
       "        vertical-align: middle;\n",
       "    }\n",
       "\n",
       "    .dataframe tbody tr th {\n",
       "        vertical-align: top;\n",
       "    }\n",
       "\n",
       "    .dataframe thead th {\n",
       "        text-align: right;\n",
       "    }\n",
       "</style>\n",
       "<table border=\"1\" class=\"dataframe\">\n",
       "  <thead>\n",
       "    <tr style=\"text-align: right;\">\n",
       "      <th></th>\n",
       "      <th>loc</th>\n",
       "      <th>title</th>\n",
       "      <th>bedroom</th>\n",
       "      <th>bathroom</th>\n",
       "      <th>parking_space</th>\n",
       "      <th>price</th>\n",
       "    </tr>\n",
       "  </thead>\n",
       "  <tbody>\n",
       "    <tr>\n",
       "      <th>4481</th>\n",
       "      <td>Gombe</td>\n",
       "      <td>Cottage</td>\n",
       "      <td>1.0</td>\n",
       "      <td>1.0</td>\n",
       "      <td>1.0</td>\n",
       "      <td>431967.2900</td>\n",
       "    </tr>\n",
       "    <tr>\n",
       "      <th>13538</th>\n",
       "      <td>Gombe</td>\n",
       "      <td>Cottage</td>\n",
       "      <td>1.0</td>\n",
       "      <td>1.0</td>\n",
       "      <td>1.0</td>\n",
       "      <td>455591.2271</td>\n",
       "    </tr>\n",
       "  </tbody>\n",
       "</table>\n",
       "</div>"
      ],
      "text/plain": [
       "         loc    title  bedroom  bathroom  parking_space        price\n",
       "4481   Gombe  Cottage      1.0       1.0            1.0  431967.2900\n",
       "13538  Gombe  Cottage      1.0       1.0            1.0  455591.2271"
      ]
     },
     "execution_count": 34,
     "metadata": {},
     "output_type": "execute_result"
    }
   ],
   "source": [
    "train_data[train_data.price < np.exp(13.1)]"
   ]
  },
  {
   "cell_type": "code",
   "execution_count": 35,
   "id": "731fcc8d-316e-4e60-8802-cb42495a71b3",
   "metadata": {},
   "outputs": [
    {
     "data": {
      "text/html": [
       "<div>\n",
       "<style scoped>\n",
       "    .dataframe tbody tr th:only-of-type {\n",
       "        vertical-align: middle;\n",
       "    }\n",
       "\n",
       "    .dataframe tbody tr th {\n",
       "        vertical-align: top;\n",
       "    }\n",
       "\n",
       "    .dataframe thead th {\n",
       "        text-align: right;\n",
       "    }\n",
       "</style>\n",
       "<table border=\"1\" class=\"dataframe\">\n",
       "  <thead>\n",
       "    <tr style=\"text-align: right;\">\n",
       "      <th></th>\n",
       "      <th>loc</th>\n",
       "      <th>title</th>\n",
       "      <th>bedroom</th>\n",
       "      <th>bathroom</th>\n",
       "      <th>parking_space</th>\n",
       "      <th>price</th>\n",
       "    </tr>\n",
       "  </thead>\n",
       "  <tbody>\n",
       "  </tbody>\n",
       "</table>\n",
       "</div>"
      ],
      "text/plain": [
       "Empty DataFrame\n",
       "Columns: [loc, title, bedroom, bathroom, parking_space, price]\n",
       "Index: []"
      ]
     },
     "execution_count": 35,
     "metadata": {},
     "output_type": "execute_result"
    }
   ],
   "source": [
    "train_data[(train_data.price < np.exp(13.4)) & (train_data.bathroom == 5)]"
   ]
  },
  {
   "cell_type": "code",
   "execution_count": 36,
   "id": "dc027ff3-6222-4418-956a-2cdd12172df5",
   "metadata": {},
   "outputs": [
    {
     "data": {
      "text/html": [
       "<div>\n",
       "<style scoped>\n",
       "    .dataframe tbody tr th:only-of-type {\n",
       "        vertical-align: middle;\n",
       "    }\n",
       "\n",
       "    .dataframe tbody tr th {\n",
       "        vertical-align: top;\n",
       "    }\n",
       "\n",
       "    .dataframe thead th {\n",
       "        text-align: right;\n",
       "    }\n",
       "</style>\n",
       "<table border=\"1\" class=\"dataframe\">\n",
       "  <thead>\n",
       "    <tr style=\"text-align: right;\">\n",
       "      <th></th>\n",
       "      <th>loc</th>\n",
       "      <th>title</th>\n",
       "      <th>bedroom</th>\n",
       "      <th>bathroom</th>\n",
       "      <th>parking_space</th>\n",
       "      <th>price</th>\n",
       "    </tr>\n",
       "  </thead>\n",
       "  <tbody>\n",
       "  </tbody>\n",
       "</table>\n",
       "</div>"
      ],
      "text/plain": [
       "Empty DataFrame\n",
       "Columns: [loc, title, bedroom, bathroom, parking_space, price]\n",
       "Index: []"
      ]
     },
     "execution_count": 36,
     "metadata": {},
     "output_type": "execute_result"
    }
   ],
   "source": [
    "train_data[(train_data.price < np.exp(13.6)) & (train_data.bedroom == 6)]"
   ]
  },
  {
   "cell_type": "code",
   "execution_count": 37,
   "id": "0accda1a-d45b-493e-9bc7-0d516836c54d",
   "metadata": {},
   "outputs": [
    {
     "data": {
      "text/html": [
       "<div>\n",
       "<style scoped>\n",
       "    .dataframe tbody tr th:only-of-type {\n",
       "        vertical-align: middle;\n",
       "    }\n",
       "\n",
       "    .dataframe tbody tr th {\n",
       "        vertical-align: top;\n",
       "    }\n",
       "\n",
       "    .dataframe thead th {\n",
       "        text-align: right;\n",
       "    }\n",
       "</style>\n",
       "<table border=\"1\" class=\"dataframe\">\n",
       "  <thead>\n",
       "    <tr style=\"text-align: right;\">\n",
       "      <th></th>\n",
       "      <th>loc</th>\n",
       "      <th>title</th>\n",
       "      <th>bedroom</th>\n",
       "      <th>bathroom</th>\n",
       "      <th>parking_space</th>\n",
       "      <th>price</th>\n",
       "    </tr>\n",
       "  </thead>\n",
       "  <tbody>\n",
       "  </tbody>\n",
       "</table>\n",
       "</div>"
      ],
      "text/plain": [
       "Empty DataFrame\n",
       "Columns: [loc, title, bedroom, bathroom, parking_space, price]\n",
       "Index: []"
      ]
     },
     "execution_count": 37,
     "metadata": {},
     "output_type": "execute_result"
    }
   ],
   "source": [
    "train_data[(train_data.price < np.exp(14.3)) & (train_data.bedroom == 7)]"
   ]
  },
  {
   "cell_type": "code",
   "execution_count": 38,
   "id": "f17badbe-c0b3-44a9-9c0f-cc2fa80612c5",
   "metadata": {},
   "outputs": [],
   "source": [
    "# train_data.drop(train_data[train_data.price > np.exp(16)].index,axis=0,inplace=True)\n",
    "train_data.drop(train_data[train_data.price < np.exp(13.1)].index,axis=0,inplace=True)\n",
    "# train_data.drop(train_data[(train_data.price < np.exp(13.6)) & (train_data.bedroom == 6)].index,axis=0,inplace=True)\n",
    "# # train_data.drop(train_data[(train_data.price_log < np.exp(14.3)) & (train_data.bedroom == 7)].index,axis=0,inplace=True)\n",
    "# train_data.drop(train_data[(train_data.price < np.exp(13.4)) & (train_data.bathroom == 5)].index,axis=0,inplace=True)\n"
   ]
  },
  {
   "cell_type": "code",
   "execution_count": 39,
   "id": "cc21ed49-e1db-4bd8-a13c-191885251d13",
   "metadata": {},
   "outputs": [
    {
     "data": {
      "image/png": "[encoded data removed]",
      "text/plain": [
       "<Figure size 640x480 with 1 Axes>"
      ]
     },
     "metadata": {},
     "output_type": "display_data"
    }
   ],
   "source": [
    "sns.scatterplot(x=train_data['bedroom'], y= np.log(train_data['price']))\n",
    "plt.grid()"
   ]
  },
  {
   "cell_type": "code",
   "execution_count": 40,
   "id": "c194fa41-94e2-451a-90c0-90744351494b",
   "metadata": {},
   "outputs": [
    {
     "data": {
      "text/html": [
       "<div>\n",
       "<style scoped>\n",
       "    .dataframe tbody tr th:only-of-type {\n",
       "        vertical-align: middle;\n",
       "    }\n",
       "\n",
       "    .dataframe tbody tr th {\n",
       "        vertical-align: top;\n",
       "    }\n",
       "\n",
       "    .dataframe thead th {\n",
       "        text-align: right;\n",
       "    }\n",
       "</style>\n",
       "<table border=\"1\" class=\"dataframe\">\n",
       "  <thead>\n",
       "    <tr style=\"text-align: right;\">\n",
       "      <th></th>\n",
       "      <th>loc</th>\n",
       "      <th>title</th>\n",
       "      <th>bedroom</th>\n",
       "      <th>bathroom</th>\n",
       "      <th>parking_space</th>\n",
       "      <th>price</th>\n",
       "    </tr>\n",
       "  </thead>\n",
       "  <tbody>\n",
       "    <tr>\n",
       "      <th>2781</th>\n",
       "      <td>Kebbi</td>\n",
       "      <td>Cottage</td>\n",
       "      <td>3.0</td>\n",
       "      <td>1.0</td>\n",
       "      <td>3.0</td>\n",
       "      <td>651472.544</td>\n",
       "    </tr>\n",
       "  </tbody>\n",
       "</table>\n",
       "</div>"
      ],
      "text/plain": [
       "        loc    title  bedroom  bathroom  parking_space       price\n",
       "2781  Kebbi  Cottage      3.0       1.0            3.0  651472.544"
      ]
     },
     "execution_count": 40,
     "metadata": {},
     "output_type": "execute_result"
    }
   ],
   "source": [
    "train_data[(train_data.price < np.exp(13.5)) & (train_data.bedroom == 3)]"
   ]
  },
  {
   "cell_type": "code",
   "execution_count": 41,
   "id": "559dc98a-418f-4654-9a50-2dd5616ab90c",
   "metadata": {},
   "outputs": [
    {
     "data": {
      "text/html": [
       "<div>\n",
       "<style scoped>\n",
       "    .dataframe tbody tr th:only-of-type {\n",
       "        vertical-align: middle;\n",
       "    }\n",
       "\n",
       "    .dataframe tbody tr th {\n",
       "        vertical-align: top;\n",
       "    }\n",
       "\n",
       "    .dataframe thead th {\n",
       "        text-align: right;\n",
       "    }\n",
       "</style>\n",
       "<table border=\"1\" class=\"dataframe\">\n",
       "  <thead>\n",
       "    <tr style=\"text-align: right;\">\n",
       "      <th></th>\n",
       "      <th>loc</th>\n",
       "      <th>title</th>\n",
       "      <th>bedroom</th>\n",
       "      <th>bathroom</th>\n",
       "      <th>parking_space</th>\n",
       "      <th>price</th>\n",
       "    </tr>\n",
       "  </thead>\n",
       "  <tbody>\n",
       "    <tr>\n",
       "      <th>5037</th>\n",
       "      <td>Gombe</td>\n",
       "      <td>Cottage</td>\n",
       "      <td>4.0</td>\n",
       "      <td>2.0</td>\n",
       "      <td>1.0</td>\n",
       "      <td>737507.5385</td>\n",
       "    </tr>\n",
       "    <tr>\n",
       "      <th>13241</th>\n",
       "      <td>Gombe</td>\n",
       "      <td>Cottage</td>\n",
       "      <td>4.0</td>\n",
       "      <td>1.0</td>\n",
       "      <td>1.0</td>\n",
       "      <td>711964.1756</td>\n",
       "    </tr>\n",
       "  </tbody>\n",
       "</table>\n",
       "</div>"
      ],
      "text/plain": [
       "         loc    title  bedroom  bathroom  parking_space        price\n",
       "5037   Gombe  Cottage      4.0       2.0            1.0  737507.5385\n",
       "13241  Gombe  Cottage      4.0       1.0            1.0  711964.1756"
      ]
     },
     "execution_count": 41,
     "metadata": {},
     "output_type": "execute_result"
    }
   ],
   "source": [
    "train_data[(train_data.price < np.exp(13.6)) & (train_data.bedroom == 4)]"
   ]
  },
  {
   "cell_type": "code",
   "execution_count": 42,
   "id": "53141f48-b8c7-4f7e-a26a-9de85640aeda",
   "metadata": {},
   "outputs": [
    {
     "data": {
      "text/html": [
       "<div>\n",
       "<style scoped>\n",
       "    .dataframe tbody tr th:only-of-type {\n",
       "        vertical-align: middle;\n",
       "    }\n",
       "\n",
       "    .dataframe tbody tr th {\n",
       "        vertical-align: top;\n",
       "    }\n",
       "\n",
       "    .dataframe thead th {\n",
       "        text-align: right;\n",
       "    }\n",
       "</style>\n",
       "<table border=\"1\" class=\"dataframe\">\n",
       "  <thead>\n",
       "    <tr style=\"text-align: right;\">\n",
       "      <th></th>\n",
       "      <th>loc</th>\n",
       "      <th>title</th>\n",
       "      <th>bedroom</th>\n",
       "      <th>bathroom</th>\n",
       "      <th>parking_space</th>\n",
       "      <th>price</th>\n",
       "    </tr>\n",
       "  </thead>\n",
       "  <tbody>\n",
       "    <tr>\n",
       "      <th>2854</th>\n",
       "      <td>Gombe</td>\n",
       "      <td>Cottage</td>\n",
       "      <td>5.0</td>\n",
       "      <td>1.0</td>\n",
       "      <td>4.0</td>\n",
       "      <td>868973.5528</td>\n",
       "    </tr>\n",
       "    <tr>\n",
       "      <th>6161</th>\n",
       "      <td>Kebbi</td>\n",
       "      <td>Cottage</td>\n",
       "      <td>5.0</td>\n",
       "      <td>1.0</td>\n",
       "      <td>1.0</td>\n",
       "      <td>836965.6522</td>\n",
       "    </tr>\n",
       "  </tbody>\n",
       "</table>\n",
       "</div>"
      ],
      "text/plain": [
       "        loc    title  bedroom  bathroom  parking_space        price\n",
       "2854  Gombe  Cottage      5.0       1.0            4.0  868973.5528\n",
       "6161  Kebbi  Cottage      5.0       1.0            1.0  836965.6522"
      ]
     },
     "execution_count": 42,
     "metadata": {},
     "output_type": "execute_result"
    }
   ],
   "source": [
    "train_data[(train_data.price < np.exp(13.7)) & (train_data.bedroom == 5)]"
   ]
  },
  {
   "cell_type": "code",
   "execution_count": null,
   "id": "7b249c2d-3c69-480d-bd05-b3311d6cd244",
   "metadata": {},
   "outputs": [],
   "source": []
  },
  {
   "cell_type": "code",
   "execution_count": 43,
   "id": "4dff405d-b376-4f14-b306-0c56ac7937b3",
   "metadata": {},
   "outputs": [],
   "source": [
    "train_data.drop(train_data[(train_data.price < np.exp(13.5)) & (train_data.bedroom == 3)].index,axis=0,inplace=True)\n",
    "train_data.drop(train_data[(train_data.price < np.exp(13.6)) & (train_data.bedroom == 4)].index,axis=0,inplace=True)\n",
    "train_data.drop(train_data[(train_data.price < np.exp(13.7)) & (train_data.bedroom == 5)].index,axis=0,inplace=True)"
   ]
  },
  {
   "cell_type": "code",
   "execution_count": 44,
   "id": "68a49245-7f04-40de-8ab9-715b689a74c2",
   "metadata": {},
   "outputs": [
    {
     "data": {
      "image/png": "[encoded data removed]",
      "text/plain": [
       "<Figure size 640x480 with 1 Axes>"
      ]
     },
     "metadata": {},
     "output_type": "display_data"
    }
   ],
   "source": [
    "sns.scatterplot(x=train_data['bedroom'], y= np.log(train_data['price']))\n",
    "plt.grid()"
   ]
  },
  {
   "cell_type": "code",
   "execution_count": 45,
   "id": "1ee8f1c3-5ed5-4733-9bcb-0124bf67bbb8",
   "metadata": {},
   "outputs": [
    {
     "data": {
      "text/plain": [
       "<AxesSubplot:xlabel='bathroom', ylabel='price'>"
      ]
     },
     "execution_count": 45,
     "metadata": {},
     "output_type": "execute_result"
    },
    {
     "data": {
      "image/png": "[encoded data removed]",
      "text/plain": [
       "<Figure size 640x480 with 1 Axes>"
      ]
     },
     "metadata": {},
     "output_type": "display_data"
    }
   ],
   "source": [
    "sns.scatterplot(x=train_data['bathroom'], y= np.log(train_data['price']))"
   ]
  },
  {
   "cell_type": "code",
   "execution_count": 46,
   "id": "59a55277-7d02-4b75-9d23-3093ac7b2478",
   "metadata": {},
   "outputs": [
    {
     "data": {
      "text/plain": [
       "10"
      ]
     },
     "execution_count": 46,
     "metadata": {},
     "output_type": "execute_result"
    }
   ],
   "source": [
    "test_data[test_data.duplicated()]['title'].nunique()"
   ]
  },
  {
   "cell_type": "code",
   "execution_count": 47,
   "id": "d39e3db9-fac5-4b5f-8a7d-aaec0ca2ac24",
   "metadata": {},
   "outputs": [],
   "source": [
    "# Selfcon = train_data[(train_data.bedroom == 1 ) & (train_data.bathroom == 1 ) & (train_data.title == 'Apartment')]\n",
    "# train_data.loc[Selfcon.index,'title'] = 'Selfcon'\n",
    "\n",
    "# Selfcon = test_data[(test_data.bedroom == 1 ) & (test_data.bathroom == 1 )& (test_data.title == 'Apartment')]\n",
    "# test_data.loc[Selfcon.index,'title'] = 'Selfcon'"
   ]
  },
  {
   "cell_type": "markdown",
   "id": "84094816-db5b-4289-a7d4-2243430d95ef",
   "metadata": {},
   "source": [
    "## Helper Functions"
   ]
  },
  {
   "cell_type": "code",
   "execution_count": 48,
   "id": "ee3c2741-fc44-4d9b-adb9-96ea63ac9a53",
   "metadata": {},
   "outputs": [],
   "source": [
    "# min_price = train_data.groupby(['loc','title']).min().sort_values(by='price',ascending=False)['price'].unstack()\n",
    "\n",
    "statelist = train_data.groupby('loc').median().sort_values(by='price',ascending=True).index\n",
    "title_list = train_data.groupby('title').median().sort_values(by='price',ascending=True).index\n",
    "\n",
    "\n",
    "def ordinalEncoding_loc(X):\n",
    "    nums = np.array(range(1,len(statelist)+1))\n",
    "    chocieList =  (nums-nums.mean())/nums.std()\n",
    "    result = np.select([X == state for state in statelist],nums)\n",
    "    # result =  (result - result.mean()) / result.std()\n",
    "    return result\n",
    "\n",
    "def ordinalEncoding_title(X):\n",
    "\n",
    "    nums = np.array(range(1,len(title_list)+1))\n",
    "    chocieList =  (nums-nums.mean())/nums.std()\n",
    "    result = np.select([X == title for title in title_list],nums)\n",
    "    # result =  (result - result.mean()) / result.std()\n",
    "    return result"
   ]
  },
  {
   "cell_type": "code",
   "execution_count": 49,
   "id": "247f2f27-a1d5-4895-9296-2be954167885",
   "metadata": {},
   "outputs": [],
   "source": [
    "groupings = train_data.groupby(['loc','title']).mean().sort_values(by='price',ascending=False)['price'].unstack()\n",
    "title_rank = train_data.groupby('title').mean().sort_values(by='price',ascending=True).index\n",
    "title_rank = list(title_rank)\n",
    "title_loc_ordering = {}\n",
    "\n",
    "for title in groupings.columns:\n",
    "    rank = title_rank.index(title) + 1\n",
    "    shift = 36 * (rank - 1)\n",
    "    title_loc_ordering[title] =  list(groupings[title].sort_values(ascending=True).index)\n",
    "    title_loc_ordering[title].append(rank)\n",
    "    title_loc_ordering[title].append(shift)\n",
    "    \n",
    "def get_rank(x):\n",
    "    title,location = x.split('&')\n",
    "    index = title_loc_ordering[title].index(location) + 1\n",
    "    deviation = title_loc_ordering[title][-1]\n",
    "    weight = title_loc_ordering[title][-2]\n",
    "    return index + weight + deviation\n",
    "\n",
    "\n",
    "def create_rank(X):\n",
    "    df  = X.copy()\n",
    "    features_comb = df['title'] + '&' + df['loc']\n",
    "    df['rank'] = features_comb.apply(lambda x : get_rank(x))\n",
    "    mean = df.groupby(['loc'])['rank'].transform('mean')\n",
    "    # std = df.groupby(['loc'])['rank'].transform('std')\n",
    "    min_ = df.groupby(['loc'])['rank'].transform('min')\n",
    "    max_ = df.groupby(['loc'])['rank'].transform('max')\n",
    "    return (df['rank'] - mean) /(max_- min_)\n",
    "\n"
   ]
  },
  {
   "cell_type": "code",
   "execution_count": 50,
   "id": "65407b9d-76cc-481e-9c7c-9df642e168cf",
   "metadata": {},
   "outputs": [],
   "source": [
    "# train_data.groupby(['title','loc'])['terrain_bed_bath_comb']"
   ]
  },
  {
   "cell_type": "code",
   "execution_count": 51,
   "id": "750850cf-f370-4c00-af8f-8a40d8bce1f7",
   "metadata": {},
   "outputs": [
    {
     "data": {
      "text/html": [
       "<div>\n",
       "<style scoped>\n",
       "    .dataframe tbody tr th:only-of-type {\n",
       "        vertical-align: middle;\n",
       "    }\n",
       "\n",
       "    .dataframe tbody tr th {\n",
       "        vertical-align: top;\n",
       "    }\n",
       "\n",
       "    .dataframe thead th {\n",
       "        text-align: right;\n",
       "    }\n",
       "</style>\n",
       "<table border=\"1\" class=\"dataframe\">\n",
       "  <thead>\n",
       "    <tr style=\"text-align: right;\">\n",
       "      <th></th>\n",
       "      <th>loc</th>\n",
       "      <th>title</th>\n",
       "      <th>bedroom</th>\n",
       "      <th>bathroom</th>\n",
       "      <th>parking_space</th>\n",
       "      <th>price</th>\n",
       "    </tr>\n",
       "  </thead>\n",
       "  <tbody>\n",
       "  </tbody>\n",
       "</table>\n",
       "</div>"
      ],
      "text/plain": [
       "Empty DataFrame\n",
       "Columns: [loc, title, bedroom, bathroom, parking_space, price]\n",
       "Index: []"
      ]
     },
     "execution_count": 51,
     "metadata": {},
     "output_type": "execute_result"
    }
   ],
   "source": [
    "train_data[train_data.bedroom < train_data.bathroom].sort_values(by=\"bathroom\",ascending=False)"
   ]
  },
  {
   "cell_type": "code",
   "execution_count": 52,
   "id": "226e70e7-6580-442c-8d30-509027b02c5f",
   "metadata": {},
   "outputs": [],
   "source": [
    "def create_features(data):\n",
    "    df = data.copy()\n",
    "    \n",
    "  \n",
    "    df['loc_ordinal'] = ordinalEncoding_loc(df['loc'])\n",
    "    df['title_ordinal'] = ordinalEncoding_title(df['title'])\n",
    "    \n",
    "    for title in groupings.columns:\n",
    "        rank = title_rank.index(title) + 1\n",
    "        shift = 36 * (rank - 1)\n",
    "        title_loc_ordering[title] =  list(groupings[title].sort_values(ascending=True).index)\n",
    "        title_loc_ordering[title].append(rank)\n",
    "        title_loc_ordering[title].append(shift)\n",
    "    \n",
    "    df['rank'] = create_rank(df[['title','loc']])\n",
    "    df['terrain_2'] = df['loc_ordinal']  * df['rank'] * df['title_ordinal']\n",
    "    df['terrain'] = df['loc_ordinal']  *  df['title_ordinal']\n",
    "    \n",
    "    df['bed_bath_comb'] = (df['bedroom']) + (df['bathroom'] * 0.5 )\n",
    "    df['bed_bath_ratio'] = (df['bedroom'] / df['bathroom'])\n",
    "   \n",
    "     # df['title_ordinal_1'] = df['rank'] * df['title_ordinal']\n",
    "    # df['title_ordinal_2'] = df['rank'] / df['title_ordinal']\n",
    "    \n",
    "    df['terrain_bed'] = df['terrain'] * df['bedroom'] \n",
    "    df['terrain_bed_bath_comb'] = df['terrain'] * df['bed_bath_comb'] \n",
    "    \n",
    "  \n",
    "    df = df.drop([\n",
    "                    \n",
    "                      'bed_bath_ratio',\n",
    "                       'rank',\n",
    "                     # 'title_ordinal',\n",
    "                     'bed_bath_comb',\n",
    "                     # 'terrain',\n",
    "                    'terrain_bed_bath_comb',\n",
    "                \n",
    "    ],axis=1)\n",
    "    \n",
    "    \n",
    "    return df"
   ]
  },
  {
   "cell_type": "code",
   "execution_count": 53,
   "id": "866d70f1-f1a1-4267-b3d3-155bc7975c46",
   "metadata": {},
   "outputs": [
    {
     "data": {
      "text/plain": [
       "1.924707194645845"
      ]
     },
     "execution_count": 53,
     "metadata": {},
     "output_type": "execute_result"
    }
   ],
   "source": [
    "(train_data['bedroom'] - train_data['bathroom']).mean()"
   ]
  },
  {
   "cell_type": "code",
   "execution_count": null,
   "id": "a915fb21-c1d0-456e-80d8-0bd1f59466cf",
   "metadata": {},
   "outputs": [],
   "source": []
  },
  {
   "cell_type": "code",
   "execution_count": 54,
   "id": "32922f8d-48e9-43c2-b128-73ac5bef775f",
   "metadata": {},
   "outputs": [],
   "source": [
    "def drop_loc_title(df):\n",
    "    return df.drop(['loc','title'],axis=1)"
   ]
  },
  {
   "cell_type": "code",
   "execution_count": 55,
   "id": "de27ddff-97d7-4f50-9d0a-ed604b19cc74",
   "metadata": {},
   "outputs": [],
   "source": [
    "features_train_data = create_features(train_data)"
   ]
  },
  {
   "cell_type": "code",
   "execution_count": 56,
   "id": "be6691b8-4eac-430c-8068-93176bc87381",
   "metadata": {},
   "outputs": [
    {
     "name": "stdout",
     "output_type": "stream",
     "text": [
      "<class 'pandas.core.frame.DataFrame'>\n",
      "Int64Index: 7172 entries, 0 to 13997\n",
      "Data columns (total 11 columns):\n",
      " #   Column         Non-Null Count  Dtype  \n",
      "---  ------         --------------  -----  \n",
      " 0   loc            7172 non-null   object \n",
      " 1   title          7172 non-null   object \n",
      " 2   bedroom        7172 non-null   float64\n",
      " 3   bathroom       7172 non-null   float64\n",
      " 4   parking_space  7172 non-null   float64\n",
      " 5   price          7172 non-null   float64\n",
      " 6   loc_ordinal    7172 non-null   int32  \n",
      " 7   title_ordinal  7172 non-null   int32  \n",
      " 8   terrain_2      7172 non-null   float64\n",
      " 9   terrain        7172 non-null   int32  \n",
      " 10  terrain_bed    7172 non-null   float64\n",
      "dtypes: float64(6), int32(3), object(2)\n",
      "memory usage: 588.3+ KB\n"
     ]
    }
   ],
   "source": [
    "features_train_data.info()"
   ]
  },
  {
   "cell_type": "code",
   "execution_count": 57,
   "id": "07999354-51bd-46be-bd41-2406a079fc4e",
   "metadata": {},
   "outputs": [
    {
     "data": {
      "text/html": [
       "<div>\n",
       "<style scoped>\n",
       "    .dataframe tbody tr th:only-of-type {\n",
       "        vertical-align: middle;\n",
       "    }\n",
       "\n",
       "    .dataframe tbody tr th {\n",
       "        vertical-align: top;\n",
       "    }\n",
       "\n",
       "    .dataframe thead th {\n",
       "        text-align: right;\n",
       "    }\n",
       "</style>\n",
       "<table border=\"1\" class=\"dataframe\">\n",
       "  <thead>\n",
       "    <tr style=\"text-align: right;\">\n",
       "      <th></th>\n",
       "      <th>bedroom</th>\n",
       "      <th>bathroom</th>\n",
       "      <th>parking_space</th>\n",
       "      <th>price</th>\n",
       "      <th>loc_ordinal</th>\n",
       "      <th>title_ordinal</th>\n",
       "      <th>terrain_2</th>\n",
       "      <th>terrain</th>\n",
       "      <th>terrain_bed</th>\n",
       "    </tr>\n",
       "  </thead>\n",
       "  <tbody>\n",
       "    <tr>\n",
       "      <th>count</th>\n",
       "      <td>7172.000000</td>\n",
       "      <td>7172.000000</td>\n",
       "      <td>7172.000000</td>\n",
       "      <td>7.172000e+03</td>\n",
       "      <td>7172.000000</td>\n",
       "      <td>7172.000000</td>\n",
       "      <td>7172.000000</td>\n",
       "      <td>7172.000000</td>\n",
       "      <td>7172.000000</td>\n",
       "    </tr>\n",
       "    <tr>\n",
       "      <th>mean</th>\n",
       "      <td>4.272030</td>\n",
       "      <td>2.347323</td>\n",
       "      <td>3.126882</td>\n",
       "      <td>2.129084e+06</td>\n",
       "      <td>18.525934</td>\n",
       "      <td>5.808003</td>\n",
       "      <td>14.894009</td>\n",
       "      <td>108.027328</td>\n",
       "      <td>465.310374</td>\n",
       "    </tr>\n",
       "    <tr>\n",
       "      <th>std</th>\n",
       "      <td>2.426618</td>\n",
       "      <td>1.645293</td>\n",
       "      <td>1.471362</td>\n",
       "      <td>1.059496e+06</td>\n",
       "      <td>10.346501</td>\n",
       "      <td>2.699691</td>\n",
       "      <td>40.459841</td>\n",
       "      <td>83.713654</td>\n",
       "      <td>489.405570</td>\n",
       "    </tr>\n",
       "    <tr>\n",
       "      <th>min</th>\n",
       "      <td>1.000000</td>\n",
       "      <td>1.000000</td>\n",
       "      <td>1.000000</td>\n",
       "      <td>5.520169e+05</td>\n",
       "      <td>1.000000</td>\n",
       "      <td>1.000000</td>\n",
       "      <td>-37.846154</td>\n",
       "      <td>1.000000</td>\n",
       "      <td>2.000000</td>\n",
       "    </tr>\n",
       "    <tr>\n",
       "      <th>25%</th>\n",
       "      <td>2.000000</td>\n",
       "      <td>1.000000</td>\n",
       "      <td>2.000000</td>\n",
       "      <td>1.396287e+06</td>\n",
       "      <td>10.000000</td>\n",
       "      <td>4.000000</td>\n",
       "      <td>-12.091775</td>\n",
       "      <td>40.000000</td>\n",
       "      <td>120.000000</td>\n",
       "    </tr>\n",
       "    <tr>\n",
       "      <th>50%</th>\n",
       "      <td>4.000000</td>\n",
       "      <td>2.000000</td>\n",
       "      <td>3.000000</td>\n",
       "      <td>1.886849e+06</td>\n",
       "      <td>18.000000</td>\n",
       "      <td>6.000000</td>\n",
       "      <td>0.917333</td>\n",
       "      <td>87.000000</td>\n",
       "      <td>288.000000</td>\n",
       "    </tr>\n",
       "    <tr>\n",
       "      <th>75%</th>\n",
       "      <td>6.000000</td>\n",
       "      <td>3.000000</td>\n",
       "      <td>4.000000</td>\n",
       "      <td>2.575349e+06</td>\n",
       "      <td>27.000000</td>\n",
       "      <td>8.000000</td>\n",
       "      <td>26.765755</td>\n",
       "      <td>160.000000</td>\n",
       "      <td>648.000000</td>\n",
       "    </tr>\n",
       "    <tr>\n",
       "      <th>max</th>\n",
       "      <td>9.000000</td>\n",
       "      <td>7.000000</td>\n",
       "      <td>6.000000</td>\n",
       "      <td>1.540273e+07</td>\n",
       "      <td>36.000000</td>\n",
       "      <td>10.000000</td>\n",
       "      <td>160.925104</td>\n",
       "      <td>360.000000</td>\n",
       "      <td>3150.000000</td>\n",
       "    </tr>\n",
       "  </tbody>\n",
       "</table>\n",
       "</div>"
      ],
      "text/plain": [
       "           bedroom     bathroom  parking_space         price  loc_ordinal  \\\n",
       "count  7172.000000  7172.000000    7172.000000  7.172000e+03  7172.000000   \n",
       "mean      4.272030     2.347323       3.126882  2.129084e+06    18.525934   \n",
       "std       2.426618     1.645293       1.471362  1.059496e+06    10.346501   \n",
       "min       1.000000     1.000000       1.000000  5.520169e+05     1.000000   \n",
       "25%       2.000000     1.000000       2.000000  1.396287e+06    10.000000   \n",
       "50%       4.000000     2.000000       3.000000  1.886849e+06    18.000000   \n",
       "75%       6.000000     3.000000       4.000000  2.575349e+06    27.000000   \n",
       "max       9.000000     7.000000       6.000000  1.540273e+07    36.000000   \n",
       "\n",
       "       title_ordinal    terrain_2      terrain  terrain_bed  \n",
       "count    7172.000000  7172.000000  7172.000000  7172.000000  \n",
       "mean        5.808003    14.894009   108.027328   465.310374  \n",
       "std         2.699691    40.459841    83.713654   489.405570  \n",
       "min         1.000000   -37.846154     1.000000     2.000000  \n",
       "25%         4.000000   -12.091775    40.000000   120.000000  \n",
       "50%         6.000000     0.917333    87.000000   288.000000  \n",
       "75%         8.000000    26.765755   160.000000   648.000000  \n",
       "max        10.000000   160.925104   360.000000  3150.000000  "
      ]
     },
     "execution_count": 57,
     "metadata": {},
     "output_type": "execute_result"
    }
   ],
   "source": [
    "features_train_data.describe()"
   ]
  },
  {
   "cell_type": "code",
   "execution_count": 58,
   "id": "0966bd5b-c4a5-49e0-b51f-e20597c3cda4",
   "metadata": {},
   "outputs": [
    {
     "name": "stderr",
     "output_type": "stream",
     "text": [
      "C:\\Users\\EMEKA ONWUEPE\\AppData\\Local\\Temp\\ipykernel_12564\\3849367518.py:1: FutureWarning: Dropping of nuisance columns in DataFrame reductions (with 'numeric_only=None') is deprecated; in a future version this will raise TypeError.  Select only valid columns before calling the reduction.\n",
      "  features_train_data.var().sort_values(ascending=False)\n"
     ]
    },
    {
     "data": {
      "text/plain": [
       "price            1.122532e+12\n",
       "terrain_bed      2.395178e+05\n",
       "terrain          7.007976e+03\n",
       "terrain_2        1.636999e+03\n",
       "loc_ordinal      1.070501e+02\n",
       "title_ordinal    7.288331e+00\n",
       "bedroom          5.888477e+00\n",
       "bathroom         2.706989e+00\n",
       "parking_space    2.164905e+00\n",
       "dtype: float64"
      ]
     },
     "execution_count": 58,
     "metadata": {},
     "output_type": "execute_result"
    }
   ],
   "source": [
    "features_train_data.var().sort_values(ascending=False)"
   ]
  },
  {
   "cell_type": "code",
   "execution_count": 59,
   "id": "52167ca9-8f83-4d52-8b61-dc1a1cbe6e30",
   "metadata": {},
   "outputs": [],
   "source": [
    "# encoder = OrdinalEncoder()\n",
    "# news = encoder.fit_transform(features_train_data)\n",
    "# news"
   ]
  },
  {
   "cell_type": "code",
   "execution_count": 60,
   "id": "e802c55f-d4c6-424e-8bf5-451a37d1a66a",
   "metadata": {},
   "outputs": [],
   "source": [
    "# features_train_data['loc_1'] = news[:,[0]]\n",
    "# features_train_data['title_1'] = news[:,[1]]"
   ]
  },
  {
   "cell_type": "code",
   "execution_count": 61,
   "id": "0210581e-d029-422d-9a40-b08ed9ed92dd",
   "metadata": {},
   "outputs": [],
   "source": [
    "# features_train_data['rank'].nunique()"
   ]
  },
  {
   "cell_type": "code",
   "execution_count": 62,
   "id": "250f441b-f490-433b-b87a-ebb62206a377",
   "metadata": {},
   "outputs": [
    {
     "data": {
      "text/plain": [
       "<AxesSubplot:>"
      ]
     },
     "execution_count": 62,
     "metadata": {},
     "output_type": "execute_result"
    },
    {
     "data": {
      "image/png": "[encoded data removed]",
      "text/plain": [
       "<Figure size 1500x700 with 2 Axes>"
      ]
     },
     "metadata": {},
     "output_type": "display_data"
    }
   ],
   "source": [
    "plt.figure(figsize=(15,7))\n",
    "sns.heatmap(features_train_data.corr(),annot=True,cmap='viridis')"
   ]
  },
  {
   "cell_type": "code",
   "execution_count": 63,
   "id": "84af79b1-b651-4050-aa19-b6f5618b3362",
   "metadata": {},
   "outputs": [],
   "source": [
    "# sns.scatterplot(x=features_train_data['terrain_bed_bath_comb'], y= features_train_data['price'])"
   ]
  },
  {
   "cell_type": "code",
   "execution_count": 64,
   "id": "52485db7-8d2d-484c-8e30-1266a5bc9906",
   "metadata": {},
   "outputs": [
    {
     "data": {
      "text/html": [
       "<div>\n",
       "<style scoped>\n",
       "    .dataframe tbody tr th:only-of-type {\n",
       "        vertical-align: middle;\n",
       "    }\n",
       "\n",
       "    .dataframe tbody tr th {\n",
       "        vertical-align: top;\n",
       "    }\n",
       "\n",
       "    .dataframe thead th {\n",
       "        text-align: right;\n",
       "    }\n",
       "</style>\n",
       "<table border=\"1\" class=\"dataframe\">\n",
       "  <thead>\n",
       "    <tr style=\"text-align: right;\">\n",
       "      <th></th>\n",
       "      <th>loc</th>\n",
       "      <th>title</th>\n",
       "      <th>bedroom</th>\n",
       "      <th>bathroom</th>\n",
       "      <th>parking_space</th>\n",
       "      <th>price</th>\n",
       "      <th>loc_ordinal</th>\n",
       "      <th>title_ordinal</th>\n",
       "      <th>terrain_2</th>\n",
       "      <th>terrain</th>\n",
       "      <th>terrain_bed</th>\n",
       "    </tr>\n",
       "  </thead>\n",
       "  <tbody>\n",
       "    <tr>\n",
       "      <th>0</th>\n",
       "      <td>Katsina</td>\n",
       "      <td>Semi-detached duplex</td>\n",
       "      <td>2.0</td>\n",
       "      <td>2.0</td>\n",
       "      <td>1.0</td>\n",
       "      <td>1149999.565</td>\n",
       "      <td>20</td>\n",
       "      <td>5</td>\n",
       "      <td>-11.455828</td>\n",
       "      <td>100</td>\n",
       "      <td>200.0</td>\n",
       "    </tr>\n",
       "    <tr>\n",
       "      <th>3</th>\n",
       "      <td>Anambra</td>\n",
       "      <td>Detached duplex</td>\n",
       "      <td>5.0</td>\n",
       "      <td>2.0</td>\n",
       "      <td>4.0</td>\n",
       "      <td>2410306.756</td>\n",
       "      <td>25</td>\n",
       "      <td>8</td>\n",
       "      <td>38.479116</td>\n",
       "      <td>200</td>\n",
       "      <td>1000.0</td>\n",
       "    </tr>\n",
       "    <tr>\n",
       "      <th>7</th>\n",
       "      <td>Katsina</td>\n",
       "      <td>Penthouse</td>\n",
       "      <td>3.0</td>\n",
       "      <td>3.0</td>\n",
       "      <td>5.0</td>\n",
       "      <td>2043107.592</td>\n",
       "      <td>20</td>\n",
       "      <td>9</td>\n",
       "      <td>60.106782</td>\n",
       "      <td>180</td>\n",
       "      <td>540.0</td>\n",
       "    </tr>\n",
       "    <tr>\n",
       "      <th>10</th>\n",
       "      <td>Ogun</td>\n",
       "      <td>Bungalow</td>\n",
       "      <td>1.0</td>\n",
       "      <td>1.0</td>\n",
       "      <td>6.0</td>\n",
       "      <td>1330213.036</td>\n",
       "      <td>32</td>\n",
       "      <td>3</td>\n",
       "      <td>-30.272857</td>\n",
       "      <td>96</td>\n",
       "      <td>96.0</td>\n",
       "    </tr>\n",
       "    <tr>\n",
       "      <th>11</th>\n",
       "      <td>Bayelsa</td>\n",
       "      <td>Apartment</td>\n",
       "      <td>3.0</td>\n",
       "      <td>2.0</td>\n",
       "      <td>2.0</td>\n",
       "      <td>1891772.069</td>\n",
       "      <td>35</td>\n",
       "      <td>2</td>\n",
       "      <td>-29.850907</td>\n",
       "      <td>70</td>\n",
       "      <td>210.0</td>\n",
       "    </tr>\n",
       "    <tr>\n",
       "      <th>...</th>\n",
       "      <td>...</td>\n",
       "      <td>...</td>\n",
       "      <td>...</td>\n",
       "      <td>...</td>\n",
       "      <td>...</td>\n",
       "      <td>...</td>\n",
       "      <td>...</td>\n",
       "      <td>...</td>\n",
       "      <td>...</td>\n",
       "      <td>...</td>\n",
       "      <td>...</td>\n",
       "    </tr>\n",
       "    <tr>\n",
       "      <th>13989</th>\n",
       "      <td>Kebbi</td>\n",
       "      <td>Terrace duplex</td>\n",
       "      <td>4.0</td>\n",
       "      <td>3.0</td>\n",
       "      <td>2.0</td>\n",
       "      <td>1581061.171</td>\n",
       "      <td>3</td>\n",
       "      <td>6</td>\n",
       "      <td>0.685793</td>\n",
       "      <td>18</td>\n",
       "      <td>72.0</td>\n",
       "    </tr>\n",
       "    <tr>\n",
       "      <th>13990</th>\n",
       "      <td>Kebbi</td>\n",
       "      <td>Penthouse</td>\n",
       "      <td>8.0</td>\n",
       "      <td>7.0</td>\n",
       "      <td>3.0</td>\n",
       "      <td>3086400.032</td>\n",
       "      <td>3</td>\n",
       "      <td>9</td>\n",
       "      <td>9.416263</td>\n",
       "      <td>27</td>\n",
       "      <td>216.0</td>\n",
       "    </tr>\n",
       "    <tr>\n",
       "      <th>13992</th>\n",
       "      <td>Ogun</td>\n",
       "      <td>Cottage</td>\n",
       "      <td>1.0</td>\n",
       "      <td>1.0</td>\n",
       "      <td>2.0</td>\n",
       "      <td>1508351.845</td>\n",
       "      <td>32</td>\n",
       "      <td>1</td>\n",
       "      <td>-17.043333</td>\n",
       "      <td>32</td>\n",
       "      <td>32.0</td>\n",
       "    </tr>\n",
       "    <tr>\n",
       "      <th>13994</th>\n",
       "      <td>Taraba</td>\n",
       "      <td>Detached duplex</td>\n",
       "      <td>8.0</td>\n",
       "      <td>1.0</td>\n",
       "      <td>6.0</td>\n",
       "      <td>2837199.086</td>\n",
       "      <td>11</td>\n",
       "      <td>8</td>\n",
       "      <td>23.298668</td>\n",
       "      <td>88</td>\n",
       "      <td>704.0</td>\n",
       "    </tr>\n",
       "    <tr>\n",
       "      <th>13997</th>\n",
       "      <td>Plateau</td>\n",
       "      <td>Bungalow</td>\n",
       "      <td>8.0</td>\n",
       "      <td>6.0</td>\n",
       "      <td>5.0</td>\n",
       "      <td>2406812.693</td>\n",
       "      <td>18</td>\n",
       "      <td>3</td>\n",
       "      <td>-15.096655</td>\n",
       "      <td>54</td>\n",
       "      <td>432.0</td>\n",
       "    </tr>\n",
       "  </tbody>\n",
       "</table>\n",
       "<p>7172 rows × 11 columns</p>\n",
       "</div>"
      ],
      "text/plain": [
       "           loc                 title  bedroom  bathroom  parking_space  \\\n",
       "0      Katsina  Semi-detached duplex      2.0       2.0            1.0   \n",
       "3      Anambra       Detached duplex      5.0       2.0            4.0   \n",
       "7      Katsina             Penthouse      3.0       3.0            5.0   \n",
       "10        Ogun              Bungalow      1.0       1.0            6.0   \n",
       "11     Bayelsa             Apartment      3.0       2.0            2.0   \n",
       "...        ...                   ...      ...       ...            ...   \n",
       "13989    Kebbi        Terrace duplex      4.0       3.0            2.0   \n",
       "13990    Kebbi             Penthouse      8.0       7.0            3.0   \n",
       "13992     Ogun               Cottage      1.0       1.0            2.0   \n",
       "13994   Taraba       Detached duplex      8.0       1.0            6.0   \n",
       "13997  Plateau              Bungalow      8.0       6.0            5.0   \n",
       "\n",
       "             price  loc_ordinal  title_ordinal  terrain_2  terrain  \\\n",
       "0      1149999.565           20              5 -11.455828      100   \n",
       "3      2410306.756           25              8  38.479116      200   \n",
       "7      2043107.592           20              9  60.106782      180   \n",
       "10     1330213.036           32              3 -30.272857       96   \n",
       "11     1891772.069           35              2 -29.850907       70   \n",
       "...            ...          ...            ...        ...      ...   \n",
       "13989  1581061.171            3              6   0.685793       18   \n",
       "13990  3086400.032            3              9   9.416263       27   \n",
       "13992  1508351.845           32              1 -17.043333       32   \n",
       "13994  2837199.086           11              8  23.298668       88   \n",
       "13997  2406812.693           18              3 -15.096655       54   \n",
       "\n",
       "       terrain_bed  \n",
       "0            200.0  \n",
       "3           1000.0  \n",
       "7            540.0  \n",
       "10            96.0  \n",
       "11           210.0  \n",
       "...            ...  \n",
       "13989         72.0  \n",
       "13990        216.0  \n",
       "13992         32.0  \n",
       "13994        704.0  \n",
       "13997        432.0  \n",
       "\n",
       "[7172 rows x 11 columns]"
      ]
     },
     "execution_count": 64,
     "metadata": {},
     "output_type": "execute_result"
    }
   ],
   "source": [
    "features_train_data"
   ]
  },
  {
   "cell_type": "code",
   "execution_count": null,
   "id": "a1af63fd-ebfd-4e53-b50e-d7953f00cb29",
   "metadata": {},
   "outputs": [],
   "source": []
  },
  {
   "cell_type": "code",
   "execution_count": null,
   "id": "1ff8f738-840b-47c2-a8d6-a16b921a74d5",
   "metadata": {},
   "outputs": [],
   "source": []
  },
  {
   "cell_type": "markdown",
   "id": "855028d0-4dfd-408f-8c47-b52709f1fee7",
   "metadata": {},
   "source": [
    "# KMeans Clusttering"
   ]
  },
  {
   "cell_type": "code",
   "execution_count": 65,
   "id": "4602e02b-7401-4ae9-8e37-7b3bc51aeb7a",
   "metadata": {},
   "outputs": [],
   "source": [
    "class ClusterSimilarity(BaseEstimator, TransformerMixin):\n",
    "    def __init__(self, n_clusters=239, gamma=1.0, random_state=None):\n",
    "        self.n_clusters = n_clusters\n",
    "        self.gamma = gamma\n",
    "        self.random_state = random_state\n",
    "\n",
    "    def fit(self, X, y=None, sample_weight=None):\n",
    "        self.kmeans_ = KMeans(self.n_clusters, random_state=self.random_state)\n",
    "        self.kmeans_.fit(X, sample_weight=sample_weight)\n",
    "        return self  # always return self!\n",
    "\n",
    "    def transform(self, X):\n",
    "        # prediction = self.kmeans_.predict(X)\n",
    "        # return prediction.reshape(-1,1)\n",
    "        return rbf_kernel(X, self.kmeans_.cluster_centers_, gamma=self.gamma)\n",
    "    \n",
    "    \n",
    "    def get_feature_names_out(self, names=None):\n",
    "        return [f\"Cluster {i} similarity\" for i in range(self.n_clusters)]"
   ]
  },
  {
   "cell_type": "markdown",
   "id": "8c449431-4702-49d5-a061-992e43c73a56",
   "metadata": {},
   "source": [
    "# pipeline"
   ]
  },
  {
   "cell_type": "code",
   "execution_count": 66,
   "id": "70006e7d-8807-4b01-a888-937114613119",
   "metadata": {},
   "outputs": [],
   "source": [
    "num_pipeline = make_pipeline(\n",
    "    FunctionTransformer(create_features),\n",
    "    FunctionTransformer(drop_loc_title),\n",
    "    \n",
    "    MinMaxScaler(),  \n",
    "     # PCA(8)\n",
    ")\n",
    "\n",
    "cat_pipeline = make_pipeline(\n",
    "    OneHotEncoder(handle_unknown=\"ignore\"),\n",
    "    )\n",
    "\n",
    "\n",
    "cluster_pipeline = make_pipeline(\n",
    "    ColumnTransformer([\n",
    "   \n",
    "    (\"one_hot\", cat_pipeline, ['loc','title']),\n",
    "    ],remainder= 'passthrough'),\n",
    "   \n",
    "    ClusterSimilarity(n_clusters=36, gamma= 1., random_state=42),\n",
    "     \n",
    ")\n",
    "# 378"
   ]
  },
  {
   "cell_type": "code",
   "execution_count": 67,
   "id": "6fb29d14-177f-4dd1-bd59-1a7dc41c96cd",
   "metadata": {},
   "outputs": [],
   "source": [
    "preprocessing = make_pipeline( ColumnTransformer([\n",
    "\n",
    "    (\"num\", num_pipeline,make_column_selector(dtype_exclude=None)),\n",
    "    (\"cat\", cat_pipeline,  make_column_selector(dtype_include=object) ),   \n",
    "    (\"geo\", cluster_pipeline, ['loc',\"title\",'bedroom','bathroom']),\n",
    "]),\n",
    "\n",
    " \n",
    "                             )"
   ]
  },
  {
   "cell_type": "code",
   "execution_count": 68,
   "id": "432faff6-2322-48a5-827d-bfe9e5db4c44",
   "metadata": {},
   "outputs": [
    {
     "data": {
      "text/html": [
       "<style>#sk-container-id-1 {color: black;background-color: white;}#sk-container-id-1 pre{padding: 0;}#sk-container-id-1 div.sk-toggleable {background-color: white;}#sk-container-id-1 label.sk-toggleable__label {cursor: pointer;display: block;width: 100%;margin-bottom: 0;padding: 0.3em;box-sizing: border-box;text-align: center;}#sk-container-id-1 label.sk-toggleable__label-arrow:before {content: \"▸\";float: left;margin-right: 0.25em;color: #696969;}#sk-container-id-1 label.sk-toggleable__label-arrow:hover:before {color: black;}#sk-container-id-1 div.sk-estimator:hover label.sk-toggleable__label-arrow:before {color: black;}#sk-container-id-1 div.sk-toggleable__content {max-height: 0;max-width: 0;overflow: hidden;text-align: left;background-color: #f0f8ff;}#sk-container-id-1 div.sk-toggleable__content pre {margin: 0.2em;color: black;border-radius: 0.25em;background-color: #f0f8ff;}#sk-container-id-1 input.sk-toggleable__control:checked~div.sk-toggleable__content {max-height: 200px;max-width: 100%;overflow: auto;}#sk-container-id-1 input.sk-toggleable__control:checked~label.sk-toggleable__label-arrow:before {content: \"▾\";}#sk-container-id-1 div.sk-estimator input.sk-toggleable__control:checked~label.sk-toggleable__label {background-color: #d4ebff;}#sk-container-id-1 div.sk-label input.sk-toggleable__control:checked~label.sk-toggleable__label {background-color: #d4ebff;}#sk-container-id-1 input.sk-hidden--visually {border: 0;clip: rect(1px 1px 1px 1px);clip: rect(1px, 1px, 1px, 1px);height: 1px;margin: -1px;overflow: hidden;padding: 0;position: absolute;width: 1px;}#sk-container-id-1 div.sk-estimator {font-family: monospace;background-color: #f0f8ff;border: 1px dotted black;border-radius: 0.25em;box-sizing: border-box;margin-bottom: 0.5em;}#sk-container-id-1 div.sk-estimator:hover {background-color: #d4ebff;}#sk-container-id-1 div.sk-parallel-item::after {content: \"\";width: 100%;border-bottom: 1px solid gray;flex-grow: 1;}#sk-container-id-1 div.sk-label:hover label.sk-toggleable__label {background-color: #d4ebff;}#sk-container-id-1 div.sk-serial::before {content: \"\";position: absolute;border-left: 1px solid gray;box-sizing: border-box;top: 0;bottom: 0;left: 50%;z-index: 0;}#sk-container-id-1 div.sk-serial {display: flex;flex-direction: column;align-items: center;background-color: white;padding-right: 0.2em;padding-left: 0.2em;position: relative;}#sk-container-id-1 div.sk-item {position: relative;z-index: 1;}#sk-container-id-1 div.sk-parallel {display: flex;align-items: stretch;justify-content: center;background-color: white;position: relative;}#sk-container-id-1 div.sk-item::before, #sk-container-id-1 div.sk-parallel-item::before {content: \"\";position: absolute;border-left: 1px solid gray;box-sizing: border-box;top: 0;bottom: 0;left: 50%;z-index: -1;}#sk-container-id-1 div.sk-parallel-item {display: flex;flex-direction: column;z-index: 1;position: relative;background-color: white;}#sk-container-id-1 div.sk-parallel-item:first-child::after {align-self: flex-end;width: 50%;}#sk-container-id-1 div.sk-parallel-item:last-child::after {align-self: flex-start;width: 50%;}#sk-container-id-1 div.sk-parallel-item:only-child::after {width: 0;}#sk-container-id-1 div.sk-dashed-wrapped {border: 1px dashed gray;margin: 0 0.4em 0.5em 0.4em;box-sizing: border-box;padding-bottom: 0.4em;background-color: white;}#sk-container-id-1 div.sk-label label {font-family: monospace;font-weight: bold;display: inline-block;line-height: 1.2em;}#sk-container-id-1 div.sk-label-container {text-align: center;}#sk-container-id-1 div.sk-container {/* jupyter's `normalize.less` sets `[hidden] { display: none; }` but bootstrap.min.css set `[hidden] { display: none !important; }` so we also need the `!important` here to be able to override the default hidden behavior on the sphinx rendered scikit-learn.org. See: https://github.com/scikit-learn/scikit-learn/issues/21755 */display: inline-block !important;position: relative;}#sk-container-id-1 div.sk-text-repr-fallback {display: none;}</style><div id=\"sk-container-id-1\" class=\"sk-top-container\"><div class=\"sk-text-repr-fallback\"><pre>Pipeline(steps=[(&#x27;preprocessing&#x27;,\n",
       "                 Pipeline(steps=[(&#x27;columntransformer&#x27;,\n",
       "                                  ColumnTransformer(transformers=[(&#x27;num&#x27;,\n",
       "                                                                   Pipeline(steps=[(&#x27;functiontransformer-1&#x27;,\n",
       "                                                                                    FunctionTransformer(func=&lt;function create_features at 0x00000171B9544670&gt;)),\n",
       "                                                                                   (&#x27;functiontransformer-2&#x27;,\n",
       "                                                                                    FunctionTransformer(func=&lt;function drop_loc_title at 0x00000171B9544DC0&gt;)),\n",
       "                                                                                   (&#x27;minmaxscaler&#x27;,\n",
       "                                                                                    MinMaxScaler()...\n",
       "                                                                                    ColumnTransformer(remainder=&#x27;passthrough&#x27;,\n",
       "                                                                                                      transformers=[(&#x27;one_hot&#x27;,\n",
       "                                                                                                                     Pipeline(steps=[(&#x27;onehotencoder&#x27;,\n",
       "                                                                                                                                      OneHotEncoder(handle_unknown=&#x27;ignore&#x27;))]),\n",
       "                                                                                                                     [&#x27;loc&#x27;,\n",
       "                                                                                                                      &#x27;title&#x27;])])),\n",
       "                                                                                   (&#x27;clustersimilarity&#x27;,\n",
       "                                                                                    ClusterSimilarity(n_clusters=36,\n",
       "                                                                                                      random_state=42))]),\n",
       "                                                                   [&#x27;loc&#x27;,\n",
       "                                                                    &#x27;title&#x27;,\n",
       "                                                                    &#x27;bedroom&#x27;,\n",
       "                                                                    &#x27;bathroom&#x27;])]))])),\n",
       "                (&#x27;model&#x27;,\n",
       "                 TransformedTargetRegressor(regressor=SVR(gamma=0.2),\n",
       "                                            transformer=StandardScaler()))])</pre><b>In a Jupyter environment, please rerun this cell to show the HTML representation or trust the notebook. <br />On GitHub, the HTML representation is unable to render, please try loading this page with nbviewer.org.</b></div><div class=\"sk-container\" hidden><div class=\"sk-item sk-dashed-wrapped\"><div class=\"sk-label-container\"><div class=\"sk-label sk-toggleable\"><input class=\"sk-toggleable__control sk-hidden--visually\" id=\"sk-estimator-id-1\" type=\"checkbox\" ><label for=\"sk-estimator-id-1\" class=\"sk-toggleable__label sk-toggleable__label-arrow\">Pipeline</label><div class=\"sk-toggleable__content\"><pre>Pipeline(steps=[(&#x27;preprocessing&#x27;,\n",
       "                 Pipeline(steps=[(&#x27;columntransformer&#x27;,\n",
       "                                  ColumnTransformer(transformers=[(&#x27;num&#x27;,\n",
       "                                                                   Pipeline(steps=[(&#x27;functiontransformer-1&#x27;,\n",
       "                                                                                    FunctionTransformer(func=&lt;function create_features at 0x00000171B9544670&gt;)),\n",
       "                                                                                   (&#x27;functiontransformer-2&#x27;,\n",
       "                                                                                    FunctionTransformer(func=&lt;function drop_loc_title at 0x00000171B9544DC0&gt;)),\n",
       "                                                                                   (&#x27;minmaxscaler&#x27;,\n",
       "                                                                                    MinMaxScaler()...\n",
       "                                                                                    ColumnTransformer(remainder=&#x27;passthrough&#x27;,\n",
       "                                                                                                      transformers=[(&#x27;one_hot&#x27;,\n",
       "                                                                                                                     Pipeline(steps=[(&#x27;onehotencoder&#x27;,\n",
       "                                                                                                                                      OneHotEncoder(handle_unknown=&#x27;ignore&#x27;))]),\n",
       "                                                                                                                     [&#x27;loc&#x27;,\n",
       "                                                                                                                      &#x27;title&#x27;])])),\n",
       "                                                                                   (&#x27;clustersimilarity&#x27;,\n",
       "                                                                                    ClusterSimilarity(n_clusters=36,\n",
       "                                                                                                      random_state=42))]),\n",
       "                                                                   [&#x27;loc&#x27;,\n",
       "                                                                    &#x27;title&#x27;,\n",
       "                                                                    &#x27;bedroom&#x27;,\n",
       "                                                                    &#x27;bathroom&#x27;])]))])),\n",
       "                (&#x27;model&#x27;,\n",
       "                 TransformedTargetRegressor(regressor=SVR(gamma=0.2),\n",
       "                                            transformer=StandardScaler()))])</pre></div></div></div><div class=\"sk-serial\"><div class=\"sk-item\"><div class=\"sk-label-container\"><div class=\"sk-label sk-toggleable\"><input class=\"sk-toggleable__control sk-hidden--visually\" id=\"sk-estimator-id-2\" type=\"checkbox\" ><label for=\"sk-estimator-id-2\" class=\"sk-toggleable__label sk-toggleable__label-arrow\">preprocessing: Pipeline</label><div class=\"sk-toggleable__content\"><pre>Pipeline(steps=[(&#x27;columntransformer&#x27;,\n",
       "                 ColumnTransformer(transformers=[(&#x27;num&#x27;,\n",
       "                                                  Pipeline(steps=[(&#x27;functiontransformer-1&#x27;,\n",
       "                                                                   FunctionTransformer(func=&lt;function create_features at 0x00000171B9544670&gt;)),\n",
       "                                                                  (&#x27;functiontransformer-2&#x27;,\n",
       "                                                                   FunctionTransformer(func=&lt;function drop_loc_title at 0x00000171B9544DC0&gt;)),\n",
       "                                                                  (&#x27;minmaxscaler&#x27;,\n",
       "                                                                   MinMaxScaler())]),\n",
       "                                                  &lt;sklearn.compose._column_tran...\n",
       "                                                  &lt;sklearn.compose._column_transformer.make_column_selector object at 0x00000171B9529750&gt;),\n",
       "                                                 (&#x27;geo&#x27;,\n",
       "                                                  Pipeline(steps=[(&#x27;columntransformer&#x27;,\n",
       "                                                                   ColumnTransformer(remainder=&#x27;passthrough&#x27;,\n",
       "                                                                                     transformers=[(&#x27;one_hot&#x27;,\n",
       "                                                                                                    Pipeline(steps=[(&#x27;onehotencoder&#x27;,\n",
       "                                                                                                                     OneHotEncoder(handle_unknown=&#x27;ignore&#x27;))]),\n",
       "                                                                                                    [&#x27;loc&#x27;,\n",
       "                                                                                                     &#x27;title&#x27;])])),\n",
       "                                                                  (&#x27;clustersimilarity&#x27;,\n",
       "                                                                   ClusterSimilarity(n_clusters=36,\n",
       "                                                                                     random_state=42))]),\n",
       "                                                  [&#x27;loc&#x27;, &#x27;title&#x27;, &#x27;bedroom&#x27;,\n",
       "                                                   &#x27;bathroom&#x27;])]))])</pre></div></div></div><div class=\"sk-serial\"><div class=\"sk-item sk-dashed-wrapped\"><div class=\"sk-label-container\"><div class=\"sk-label sk-toggleable\"><input class=\"sk-toggleable__control sk-hidden--visually\" id=\"sk-estimator-id-3\" type=\"checkbox\" ><label for=\"sk-estimator-id-3\" class=\"sk-toggleable__label sk-toggleable__label-arrow\">columntransformer: ColumnTransformer</label><div class=\"sk-toggleable__content\"><pre>ColumnTransformer(transformers=[(&#x27;num&#x27;,\n",
       "                                 Pipeline(steps=[(&#x27;functiontransformer-1&#x27;,\n",
       "                                                  FunctionTransformer(func=&lt;function create_features at 0x00000171B9544670&gt;)),\n",
       "                                                 (&#x27;functiontransformer-2&#x27;,\n",
       "                                                  FunctionTransformer(func=&lt;function drop_loc_title at 0x00000171B9544DC0&gt;)),\n",
       "                                                 (&#x27;minmaxscaler&#x27;,\n",
       "                                                  MinMaxScaler())]),\n",
       "                                 &lt;sklearn.compose._column_transformer.make_column_selector object at 0...\n",
       "                                 &lt;sklearn.compose._column_transformer.make_column_selector object at 0x00000171B9529750&gt;),\n",
       "                                (&#x27;geo&#x27;,\n",
       "                                 Pipeline(steps=[(&#x27;columntransformer&#x27;,\n",
       "                                                  ColumnTransformer(remainder=&#x27;passthrough&#x27;,\n",
       "                                                                    transformers=[(&#x27;one_hot&#x27;,\n",
       "                                                                                   Pipeline(steps=[(&#x27;onehotencoder&#x27;,\n",
       "                                                                                                    OneHotEncoder(handle_unknown=&#x27;ignore&#x27;))]),\n",
       "                                                                                   [&#x27;loc&#x27;,\n",
       "                                                                                    &#x27;title&#x27;])])),\n",
       "                                                 (&#x27;clustersimilarity&#x27;,\n",
       "                                                  ClusterSimilarity(n_clusters=36,\n",
       "                                                                    random_state=42))]),\n",
       "                                 [&#x27;loc&#x27;, &#x27;title&#x27;, &#x27;bedroom&#x27;, &#x27;bathroom&#x27;])])</pre></div></div></div><div class=\"sk-parallel\"><div class=\"sk-parallel-item\"><div class=\"sk-item\"><div class=\"sk-label-container\"><div class=\"sk-label sk-toggleable\"><input class=\"sk-toggleable__control sk-hidden--visually\" id=\"sk-estimator-id-4\" type=\"checkbox\" ><label for=\"sk-estimator-id-4\" class=\"sk-toggleable__label sk-toggleable__label-arrow\">num</label><div class=\"sk-toggleable__content\"><pre>&lt;sklearn.compose._column_transformer.make_column_selector object at 0x00000171B80F9AE0&gt;</pre></div></div></div><div class=\"sk-serial\"><div class=\"sk-item\"><div class=\"sk-serial\"><div class=\"sk-item\"><div class=\"sk-estimator sk-toggleable\"><input class=\"sk-toggleable__control sk-hidden--visually\" id=\"sk-estimator-id-5\" type=\"checkbox\" ><label for=\"sk-estimator-id-5\" class=\"sk-toggleable__label sk-toggleable__label-arrow\">FunctionTransformer</label><div class=\"sk-toggleable__content\"><pre>FunctionTransformer(func=&lt;function create_features at 0x00000171B9544670&gt;)</pre></div></div></div><div class=\"sk-item\"><div class=\"sk-estimator sk-toggleable\"><input class=\"sk-toggleable__control sk-hidden--visually\" id=\"sk-estimator-id-6\" type=\"checkbox\" ><label for=\"sk-estimator-id-6\" class=\"sk-toggleable__label sk-toggleable__label-arrow\">FunctionTransformer</label><div class=\"sk-toggleable__content\"><pre>FunctionTransformer(func=&lt;function drop_loc_title at 0x00000171B9544DC0&gt;)</pre></div></div></div><div class=\"sk-item\"><div class=\"sk-estimator sk-toggleable\"><input class=\"sk-toggleable__control sk-hidden--visually\" id=\"sk-estimator-id-7\" type=\"checkbox\" ><label for=\"sk-estimator-id-7\" class=\"sk-toggleable__label sk-toggleable__label-arrow\">MinMaxScaler</label><div class=\"sk-toggleable__content\"><pre>MinMaxScaler()</pre></div></div></div></div></div></div></div></div><div class=\"sk-parallel-item\"><div class=\"sk-item\"><div class=\"sk-label-container\"><div class=\"sk-label sk-toggleable\"><input class=\"sk-toggleable__control sk-hidden--visually\" id=\"sk-estimator-id-8\" type=\"checkbox\" ><label for=\"sk-estimator-id-8\" class=\"sk-toggleable__label sk-toggleable__label-arrow\">cat</label><div class=\"sk-toggleable__content\"><pre>&lt;sklearn.compose._column_transformer.make_column_selector object at 0x00000171B9529750&gt;</pre></div></div></div><div class=\"sk-serial\"><div class=\"sk-item\"><div class=\"sk-serial\"><div class=\"sk-item\"><div class=\"sk-estimator sk-toggleable\"><input class=\"sk-toggleable__control sk-hidden--visually\" id=\"sk-estimator-id-9\" type=\"checkbox\" ><label for=\"sk-estimator-id-9\" class=\"sk-toggleable__label sk-toggleable__label-arrow\">OneHotEncoder</label><div class=\"sk-toggleable__content\"><pre>OneHotEncoder(handle_unknown=&#x27;ignore&#x27;)</pre></div></div></div></div></div></div></div></div><div class=\"sk-parallel-item\"><div class=\"sk-item\"><div class=\"sk-label-container\"><div class=\"sk-label sk-toggleable\"><input class=\"sk-toggleable__control sk-hidden--visually\" id=\"sk-estimator-id-10\" type=\"checkbox\" ><label for=\"sk-estimator-id-10\" class=\"sk-toggleable__label sk-toggleable__label-arrow\">geo</label><div class=\"sk-toggleable__content\"><pre>[&#x27;loc&#x27;, &#x27;title&#x27;, &#x27;bedroom&#x27;, &#x27;bathroom&#x27;]</pre></div></div></div><div class=\"sk-serial\"><div class=\"sk-item\"><div class=\"sk-serial\"><div class=\"sk-item sk-dashed-wrapped\"><div class=\"sk-label-container\"><div class=\"sk-label sk-toggleable\"><input class=\"sk-toggleable__control sk-hidden--visually\" id=\"sk-estimator-id-11\" type=\"checkbox\" ><label for=\"sk-estimator-id-11\" class=\"sk-toggleable__label sk-toggleable__label-arrow\">columntransformer: ColumnTransformer</label><div class=\"sk-toggleable__content\"><pre>ColumnTransformer(remainder=&#x27;passthrough&#x27;,\n",
       "                  transformers=[(&#x27;one_hot&#x27;,\n",
       "                                 Pipeline(steps=[(&#x27;onehotencoder&#x27;,\n",
       "                                                  OneHotEncoder(handle_unknown=&#x27;ignore&#x27;))]),\n",
       "                                 [&#x27;loc&#x27;, &#x27;title&#x27;])])</pre></div></div></div><div class=\"sk-parallel\"><div class=\"sk-parallel-item\"><div class=\"sk-item\"><div class=\"sk-label-container\"><div class=\"sk-label sk-toggleable\"><input class=\"sk-toggleable__control sk-hidden--visually\" id=\"sk-estimator-id-12\" type=\"checkbox\" ><label for=\"sk-estimator-id-12\" class=\"sk-toggleable__label sk-toggleable__label-arrow\">one_hot</label><div class=\"sk-toggleable__content\"><pre>[&#x27;loc&#x27;, &#x27;title&#x27;]</pre></div></div></div><div class=\"sk-serial\"><div class=\"sk-item\"><div class=\"sk-serial\"><div class=\"sk-item\"><div class=\"sk-estimator sk-toggleable\"><input class=\"sk-toggleable__control sk-hidden--visually\" id=\"sk-estimator-id-13\" type=\"checkbox\" ><label for=\"sk-estimator-id-13\" class=\"sk-toggleable__label sk-toggleable__label-arrow\">OneHotEncoder</label><div class=\"sk-toggleable__content\"><pre>OneHotEncoder(handle_unknown=&#x27;ignore&#x27;)</pre></div></div></div></div></div></div></div></div><div class=\"sk-parallel-item\"><div class=\"sk-item\"><div class=\"sk-label-container\"><div class=\"sk-label sk-toggleable\"><input class=\"sk-toggleable__control sk-hidden--visually\" id=\"sk-estimator-id-14\" type=\"checkbox\" ><label for=\"sk-estimator-id-14\" class=\"sk-toggleable__label sk-toggleable__label-arrow\">remainder</label><div class=\"sk-toggleable__content\"><pre></pre></div></div></div><div class=\"sk-serial\"><div class=\"sk-item\"><div class=\"sk-estimator sk-toggleable\"><input class=\"sk-toggleable__control sk-hidden--visually\" id=\"sk-estimator-id-15\" type=\"checkbox\" ><label for=\"sk-estimator-id-15\" class=\"sk-toggleable__label sk-toggleable__label-arrow\">passthrough</label><div class=\"sk-toggleable__content\"><pre>passthrough</pre></div></div></div></div></div></div></div></div><div class=\"sk-item\"><div class=\"sk-estimator sk-toggleable\"><input class=\"sk-toggleable__control sk-hidden--visually\" id=\"sk-estimator-id-16\" type=\"checkbox\" ><label for=\"sk-estimator-id-16\" class=\"sk-toggleable__label sk-toggleable__label-arrow\">ClusterSimilarity</label><div class=\"sk-toggleable__content\"><pre>ClusterSimilarity(n_clusters=36, random_state=42)</pre></div></div></div></div></div></div></div></div></div></div></div></div><div class=\"sk-item sk-dashed-wrapped\"><div class=\"sk-label-container\"><div class=\"sk-label sk-toggleable\"><input class=\"sk-toggleable__control sk-hidden--visually\" id=\"sk-estimator-id-17\" type=\"checkbox\" ><label for=\"sk-estimator-id-17\" class=\"sk-toggleable__label sk-toggleable__label-arrow\">model: TransformedTargetRegressor</label><div class=\"sk-toggleable__content\"><pre>TransformedTargetRegressor(regressor=SVR(gamma=0.2),\n",
       "                           transformer=StandardScaler())</pre></div></div></div><div class=\"sk-parallel\"><div class=\"sk-parallel-item\"><div class=\"sk-item\"><div class=\"sk-label-container\"><div class=\"sk-label sk-toggleable\"><input class=\"sk-toggleable__control sk-hidden--visually\" id=\"sk-estimator-id-18\" type=\"checkbox\" ><label for=\"sk-estimator-id-18\" class=\"sk-toggleable__label sk-toggleable__label-arrow\">regressor: SVR</label><div class=\"sk-toggleable__content\"><pre>SVR(gamma=0.2)</pre></div></div></div><div class=\"sk-serial\"><div class=\"sk-item\"><div class=\"sk-estimator sk-toggleable\"><input class=\"sk-toggleable__control sk-hidden--visually\" id=\"sk-estimator-id-19\" type=\"checkbox\" ><label for=\"sk-estimator-id-19\" class=\"sk-toggleable__label sk-toggleable__label-arrow\">SVR</label><div class=\"sk-toggleable__content\"><pre>SVR(gamma=0.2)</pre></div></div></div></div></div></div><div class=\"sk-parallel-item\"><div class=\"sk-item\"><div class=\"sk-label-container\"><div class=\"sk-label sk-toggleable\"><input class=\"sk-toggleable__control sk-hidden--visually\" id=\"sk-estimator-id-20\" type=\"checkbox\" ><label for=\"sk-estimator-id-20\" class=\"sk-toggleable__label sk-toggleable__label-arrow\">transformer: StandardScaler</label><div class=\"sk-toggleable__content\"><pre>StandardScaler()</pre></div></div></div><div class=\"sk-serial\"><div class=\"sk-item\"><div class=\"sk-estimator sk-toggleable\"><input class=\"sk-toggleable__control sk-hidden--visually\" id=\"sk-estimator-id-21\" type=\"checkbox\" ><label for=\"sk-estimator-id-21\" class=\"sk-toggleable__label sk-toggleable__label-arrow\">StandardScaler</label><div class=\"sk-toggleable__content\"><pre>StandardScaler()</pre></div></div></div></div></div></div></div></div></div></div></div></div>"
      ],
      "text/plain": [
       "Pipeline(steps=[('preprocessing',\n",
       "                 Pipeline(steps=[('columntransformer',\n",
       "                                  ColumnTransformer(transformers=[('num',\n",
       "                                                                   Pipeline(steps=[('functiontransformer-1',\n",
       "                                                                                    FunctionTransformer(func=<function create_features at 0x00000171B9544670>)),\n",
       "                                                                                   ('functiontransformer-2',\n",
       "                                                                                    FunctionTransformer(func=<function drop_loc_title at 0x00000171B9544DC0>)),\n",
       "                                                                                   ('minmaxscaler',\n",
       "                                                                                    MinMaxScaler()...\n",
       "                                                                                    ColumnTransformer(remainder='passthrough',\n",
       "                                                                                                      transformers=[('one_hot',\n",
       "                                                                                                                     Pipeline(steps=[('onehotencoder',\n",
       "                                                                                                                                      OneHotEncoder(handle_unknown='ignore'))]),\n",
       "                                                                                                                     ['loc',\n",
       "                                                                                                                      'title'])])),\n",
       "                                                                                   ('clustersimilarity',\n",
       "                                                                                    ClusterSimilarity(n_clusters=36,\n",
       "                                                                                                      random_state=42))]),\n",
       "                                                                   ['loc',\n",
       "                                                                    'title',\n",
       "                                                                    'bedroom',\n",
       "                                                                    'bathroom'])]))])),\n",
       "                ('model',\n",
       "                 TransformedTargetRegressor(regressor=SVR(gamma=0.2),\n",
       "                                            transformer=StandardScaler()))])"
      ]
     },
     "execution_count": 68,
     "metadata": {},
     "output_type": "execute_result"
    }
   ],
   "source": [
    "model = TransformedTargetRegressor(svm.SVR(gamma=0.2),\n",
    "                                  transformer = StandardScaler() )\n",
    "\n",
    "# model = XGBRegressor(gamma=0.2)\n",
    "\n",
    "reg_model = Pipeline([('preprocessing', preprocessing) ,('model', model)] )\n",
    "\n",
    "reg_model"
   ]
  },
  {
   "cell_type": "code",
   "execution_count": 69,
   "id": "35b36e15-b230-430b-98cf-8ad7f047268a",
   "metadata": {},
   "outputs": [
    {
     "data": {
      "text/plain": [
       "(7172, 90)"
      ]
     },
     "execution_count": 69,
     "metadata": {},
     "output_type": "execute_result"
    }
   ],
   "source": [
    "preprocessing.fit_transform(train_data.drop('price',axis=1)).shape"
   ]
  },
  {
   "cell_type": "code",
   "execution_count": 70,
   "id": "e0676180-4f6d-490a-9fec-95022f049a33",
   "metadata": {},
   "outputs": [
    {
     "name": "stdout",
     "output_type": "stream",
     "text": [
      "<class 'pandas.core.frame.DataFrame'>\n",
      "Int64Index: 7172 entries, 0 to 13997\n",
      "Data columns (total 5 columns):\n",
      " #   Column         Non-Null Count  Dtype  \n",
      "---  ------         --------------  -----  \n",
      " 0   loc            7172 non-null   object \n",
      " 1   title          7172 non-null   object \n",
      " 2   bedroom        7172 non-null   float64\n",
      " 3   bathroom       7172 non-null   float64\n",
      " 4   parking_space  7172 non-null   float64\n",
      "dtypes: float64(3), object(2)\n",
      "memory usage: 336.2+ KB\n"
     ]
    }
   ],
   "source": [
    "train_data.drop('price',axis=1).info()"
   ]
  },
  {
   "cell_type": "code",
   "execution_count": 71,
   "id": "bed05e56-64d0-4cb3-97f9-5730df1cc6e1",
   "metadata": {},
   "outputs": [],
   "source": [
    "strat_train_set, strat_test_set = train_test_split(\n",
    "    train_data, test_size=0.3, stratify=train_data[\"title\"], random_state=42)\n",
    "\n",
    "train_features = strat_train_set.drop('price',axis=1)\n",
    "train_label = strat_train_set.price\n",
    "\n",
    "test_features = strat_test_set.drop('price',axis=1)\n",
    "test_label = strat_test_set.price"
   ]
  },
  {
   "cell_type": "code",
   "execution_count": 72,
   "id": "077d5543-3432-4aae-8cde-9073e4638043",
   "metadata": {},
   "outputs": [
    {
     "data": {
      "text/plain": [
       "290482.197906317"
      ]
     },
     "execution_count": 72,
     "metadata": {},
     "output_type": "execute_result"
    }
   ],
   "source": [
    "reg_model.fit(train_features, train_label)\n",
    "housing_predictions = reg_model.predict(test_features)\n",
    "model_rmse = mean_squared_error(test_label, housing_predictions,\n",
    "                                 squared=False)\n",
    "model_rmse\n",
    "\n",
    "# 352223.64484963444\n",
    "# 350660.16205413145\n",
    "# 349164.45534796186\n",
    "# 351357.6927873449"
   ]
  },
  {
   "cell_type": "code",
   "execution_count": 73,
   "id": "9c5e7fdb-e4a0-4d7c-a797-9a2485af645e",
   "metadata": {},
   "outputs": [],
   "source": [
    "# help(XGBRegressor())"
   ]
  },
  {
   "cell_type": "code",
   "execution_count": 74,
   "id": "f70c133e-c7ca-46ce-aa3e-e7d237483028",
   "metadata": {},
   "outputs": [],
   "source": [
    "# parameters = {'kernel':('linear', 'rbf','poly','rbf', 'sigmoid'),\n",
    "#               'C': np.logspace(-3, 3, 5),\n",
    "#               'gamma':np.logspace(-3, 3, 5)}\n",
    "# svm = SVC()\n",
    "\n",
    "\n",
    "# # svm_cv = GridSearchCV(svm,parameters,cv=10)\n",
    "# # svm_cv.fit(X_train,Y_train)\n",
    "\n",
    "# from sklearn.model_selection import GridSearchCV\n",
    "\n",
    "# # # full_pipeline = Pipeline([\n",
    "# # #     (\"preprocessing\", preprocessing),\n",
    "# # #     (\"random_forest\", RandomForestRegressor(random_state=42)),\n",
    "# # # ])\n",
    "\n",
    "# param_grid = [\n",
    "#     {\n",
    "#     # 'model__regressor__kernel': ('linear', 'rbf','poly', 'sigmoid'),\n",
    "#      # 'model__regressor__C':  np.logspace(-3, 3, 5),\n",
    "#      # 'model__regressor__gamma': np.logspace(-3, 3, 5),\n",
    "#      # 'model__regressor__epsilon': [1,2,3,4,5],\n",
    "#       'preprocessing__geo__clustersimilarity__n_clusters': list(range(90,100))\n",
    "#      }\n",
    "# ]\n",
    "\n",
    "# param_grid = [\n",
    "#     {\n",
    "        # 'preprocessing__geo__clustersimilarity__n_clusters': list(range(90,100)),\n",
    "        # 'model__regressor__kernel': ('linear', 'rbf','poly','rbf', 'sigmoid'),\n",
    "        #  'model__regressor__C':  np.logspace(-3, 3, 5),\n",
    "#         'model__regressor__gamma': np.array(list(range(1,11))) /10,\n",
    "#     }\n",
    "# ]\n",
    "# grid_search = GridSearchCV(reg_model, param_grid, cv=3,\n",
    "#                           scoring='neg_root_mean_squared_error')\n",
    "# grid_search.fit(train_data.drop('price',axis=1), train_data.price)"
   ]
  },
  {
   "cell_type": "code",
   "execution_count": 75,
   "id": "ac969ee6-350a-4709-87c1-4f44ab40235d",
   "metadata": {},
   "outputs": [
    {
     "name": "stdout",
     "output_type": "stream",
     "text": [
      "[2327845.04970991  972755.93535073 1073167.70487795 ... 1958320.75911221\n",
      " 1251580.53801163 3220078.82587994]\n",
      "0         845\n",
      "1        1924\n",
      "2       10718\n",
      "3       12076\n",
      "4       12254\n",
      "        ...  \n",
      "5995     1594\n",
      "5996     2416\n",
      "5997    10195\n",
      "5998     9455\n",
      "5999    11736\n",
      "Name: ID, Length: 6000, dtype: int64\n"
     ]
    }
   ],
   "source": [
    "reg_model.fit(train_data.drop('price',axis=1), train_data.price)\n",
    "housing_forcast = reg_model.predict(test_data)\n",
    "# housing_forcast = np.expm1(housing_forcast)\n",
    "print(housing_forcast)\n",
    "\n",
    "# ids = test_data.reset_index()['ID']\n",
    "\n",
    "print(test_ids)\n",
    "\n",
    "data = {'ID':test_ids,'price':housing_forcast}\n",
    "\n",
    "submission = pd.DataFrame(data)\n",
    "# submission.price = submission.price.apply(lambda x:round(x))\n",
    "submission.set_index('ID',inplace=True)\n",
    "submission.to_csv('forcast.csv')\n",
    "\n",
    "# [2339564.59542481  985677.61331304 1189522.735418   ... 1985574.42349451\n",
    "#  1300250.0620549  3351963.28773246]\n",
    "\n",
    "# 2337458.71318264\n",
    "# 2351380.8939843\n",
    "# 2348510.83518717\n",
    "# 2341164.29202909\n",
    "\n",
    "# 2330401.87713812"
   ]
  },
  {
   "cell_type": "code",
   "execution_count": 76,
   "id": "93441867-5b84-4ea8-afba-618fe0e78814",
   "metadata": {},
   "outputs": [],
   "source": [
    "# 339459.7513"
   ]
  },
  {
   "cell_type": "code",
   "execution_count": 77,
   "id": "bfc5ec01-d5c8-49cc-9380-5b45f34b2774",
   "metadata": {},
   "outputs": [
    {
     "data": {
      "text/plain": [
       "336147.83974083705"
      ]
     },
     "execution_count": 77,
     "metadata": {},
     "output_type": "execute_result"
    }
   ],
   "source": [
    "housing_predictions = reg_model.predict(train_data.drop('price',axis=1))\n",
    "model_rmse = mean_squared_error(train_data.price, housing_predictions,\n",
    "                                 squared=False)\n",
    "model_rmse\n",
    "\n",
    "# 315345.984775595\n",
    "# 315508.5965551834\n",
    "# 315450.3744717779\n",
    "# 314987.2555388389\n",
    "\n",
    "# 333729.9691617605\n",
    "\n",
    "# 333973.79314003675"
   ]
  },
  {
   "cell_type": "code",
   "execution_count": 78,
   "id": "09899011-5092-4b6c-a7e3-89736690323f",
   "metadata": {},
   "outputs": [],
   "source": [
    "# from sklearn.model_selection import GridSearchCV\n",
    "\n",
    "# param_grid = [\n",
    "#     {\n",
    "#         'model__regressor__gamma': np.array(list(range(1,11))) /10,\n",
    "#         # 'preprocessing__geo__clustersimilarity__gamma': np.array(list(range(1,11))) /10,\n",
    "#         # 'model__regressor__kernel': ('linear', 'rbf','poly', 'sigmoid'),\n",
    "#       # 'model__regressor__C':  np.array(list(range(1,11))) /10,\n",
    "#     }\n",
    "# ]\n",
    "# grid_search = GridSearchCV(reg_model, param_grid, cv=3,\n",
    "#                           scoring='neg_root_mean_squared_error')\n",
    "# grid_search.fit(train_data.drop('price',axis=1), train_data.price)"
   ]
  },
  {
   "cell_type": "code",
   "execution_count": 79,
   "id": "5afe6864-d0fc-40a4-9d56-6d99276103d4",
   "metadata": {},
   "outputs": [],
   "source": [
    "# grid_search.best_params_"
   ]
  },
  {
   "cell_type": "code",
   "execution_count": 80,
   "id": "618c7a88-d6f2-4510-9762-26e5a953659d",
   "metadata": {},
   "outputs": [],
   "source": [
    "# reg_gamma 0.1,0.2\n",
    "# clus gamma 0.1"
   ]
  },
  {
   "cell_type": "code",
   "execution_count": null,
   "id": "90aa7ac6-9759-439c-9ea8-c0825136b398",
   "metadata": {},
   "outputs": [],
   "source": []
  },
  {
   "cell_type": "code",
   "execution_count": 81,
   "id": "ecff344c-73ed-410f-8c71-6f8e54582962",
   "metadata": {},
   "outputs": [],
   "source": [
    "# train_data.loc[abnormal_bathrooms,'bathroom'].shape "
   ]
  },
  {
   "cell_type": "code",
   "execution_count": null,
   "id": "fad4919b-7de8-4c8e-b321-9a44c1d5fb96",
   "metadata": {},
   "outputs": [],
   "source": []
  },
  {
   "cell_type": "code",
   "execution_count": null,
   "id": "b7cb872b-f250-4a1d-9adf-4c159f5b70aa",
   "metadata": {},
   "outputs": [],
   "source": []
  }
 ],
 "metadata": {
  "kernelspec": {
   "display_name": "Python 3 (ipykernel)",
   "language": "python",
   "name": "python3"
  },
  "language_info": {
   "codemirror_mode": {
    "name": "ipython",
    "version": 3
   },
   "file_extension": ".py",
   "mimetype": "text/x-python",
   "name": "python",
   "nbconvert_exporter": "python",
   "pygments_lexer": "ipython3",
   "version": "3.10.11"
  }
 },
 "nbformat": 4,
 "nbformat_minor": 5
}
